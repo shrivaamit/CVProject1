{
  "cells": [
    {
      "cell_type": "markdown",
      "source": [
        "\n",
        "# Experiment pefromed with CNN, KNN, SVM"
      ],
      "metadata": {
        "id": "WyKZJw9tMUvG"
      }
    },
    {
      "cell_type": "code",
      "execution_count": 4,
      "metadata": {
        "id": "182gTgIRxFKk"
      },
      "outputs": [],
      "source": [
        "import numpy as np\n",
        "import cv2\n",
        "import tensorflow as tf\n",
        "from tensorflow.keras.datasets import mnist\n",
        "from tensorflow.keras.models import Sequential\n",
        "from tensorflow.keras.layers import Dense, Dropout, Flatten, Conv2D, MaxPooling2D\n",
        "from tensorflow.keras.utils import to_categorical\n",
        "from sklearn.model_selection import train_test_split"
      ]
    },
    {
      "cell_type": "code",
      "execution_count": null,
      "metadata": {
        "id": "2PShDkrAxLBv"
      },
      "outputs": [],
      "source": [
        "# Load the MNIST dataset\n",
        "(x_train, y_train), (x_test, y_test) = mnist.load_data()"
      ]
    },
    {
      "cell_type": "code",
      "execution_count": null,
      "metadata": {
        "colab": {
          "base_uri": "https://localhost:8080/"
        },
        "id": "h9pVbPePxOOd",
        "outputId": "135017be-8ea3-428e-be9c-b1ab0b02f004"
      },
      "outputs": [
        {
          "data": {
            "text/plain": [
              "array([[[0, 0, 0, ..., 0, 0, 0],\n",
              "        [0, 0, 0, ..., 0, 0, 0],\n",
              "        [0, 0, 0, ..., 0, 0, 0],\n",
              "        ...,\n",
              "        [0, 0, 0, ..., 0, 0, 0],\n",
              "        [0, 0, 0, ..., 0, 0, 0],\n",
              "        [0, 0, 0, ..., 0, 0, 0]],\n",
              "\n",
              "       [[0, 0, 0, ..., 0, 0, 0],\n",
              "        [0, 0, 0, ..., 0, 0, 0],\n",
              "        [0, 0, 0, ..., 0, 0, 0],\n",
              "        ...,\n",
              "        [0, 0, 0, ..., 0, 0, 0],\n",
              "        [0, 0, 0, ..., 0, 0, 0],\n",
              "        [0, 0, 0, ..., 0, 0, 0]],\n",
              "\n",
              "       [[0, 0, 0, ..., 0, 0, 0],\n",
              "        [0, 0, 0, ..., 0, 0, 0],\n",
              "        [0, 0, 0, ..., 0, 0, 0],\n",
              "        ...,\n",
              "        [0, 0, 0, ..., 0, 0, 0],\n",
              "        [0, 0, 0, ..., 0, 0, 0],\n",
              "        [0, 0, 0, ..., 0, 0, 0]],\n",
              "\n",
              "       ...,\n",
              "\n",
              "       [[0, 0, 0, ..., 0, 0, 0],\n",
              "        [0, 0, 0, ..., 0, 0, 0],\n",
              "        [0, 0, 0, ..., 0, 0, 0],\n",
              "        ...,\n",
              "        [0, 0, 0, ..., 0, 0, 0],\n",
              "        [0, 0, 0, ..., 0, 0, 0],\n",
              "        [0, 0, 0, ..., 0, 0, 0]],\n",
              "\n",
              "       [[0, 0, 0, ..., 0, 0, 0],\n",
              "        [0, 0, 0, ..., 0, 0, 0],\n",
              "        [0, 0, 0, ..., 0, 0, 0],\n",
              "        ...,\n",
              "        [0, 0, 0, ..., 0, 0, 0],\n",
              "        [0, 0, 0, ..., 0, 0, 0],\n",
              "        [0, 0, 0, ..., 0, 0, 0]],\n",
              "\n",
              "       [[0, 0, 0, ..., 0, 0, 0],\n",
              "        [0, 0, 0, ..., 0, 0, 0],\n",
              "        [0, 0, 0, ..., 0, 0, 0],\n",
              "        ...,\n",
              "        [0, 0, 0, ..., 0, 0, 0],\n",
              "        [0, 0, 0, ..., 0, 0, 0],\n",
              "        [0, 0, 0, ..., 0, 0, 0]]], dtype=uint8)"
            ]
          },
          "execution_count": 6,
          "metadata": {},
          "output_type": "execute_result"
        }
      ],
      "source": [
        "x_train"
      ]
    },
    {
      "cell_type": "code",
      "execution_count": null,
      "metadata": {
        "id": "oX6LzePOxPWq"
      },
      "outputs": [],
      "source": [
        "def preprocess_image(image):\n",
        "    # Apply Gaussian blur for noise removal\n",
        "    blurred = cv2.GaussianBlur(image, (5, 5), 0)\n",
        "\n",
        "    # Apply thresholding (OTSU's method)\n",
        "    _, thresholded = cv2.threshold(blurred, 0, 255, cv2.THRESH_BINARY_INV + cv2.THRESH_OTSU)\n",
        "\n",
        "    return thresholded\n"
      ]
    },
    {
      "cell_type": "code",
      "execution_count": null,
      "metadata": {
        "id": "IjIzyS0mxUrO"
      },
      "outputs": [],
      "source": [
        "# Preprocess the images\n",
        "x_train = np.array([preprocess_image(img) for img in x_train])\n",
        "x_test = np.array([preprocess_image(img) for img in x_test])"
      ]
    },
    {
      "cell_type": "code",
      "execution_count": null,
      "metadata": {
        "id": "1Lmml0xQxYIL"
      },
      "outputs": [],
      "source": [
        "x_train = x_train.reshape(x_train.shape[0], 28, 28, 1)\n",
        "x_test = x_test.reshape(x_test.shape[0], 28, 28, 1)\n",
        "\n",
        "x_train = x_train.astype('float32') / 255\n",
        "x_test = x_test.astype('float32') / 255\n"
      ]
    },
    {
      "cell_type": "code",
      "execution_count": null,
      "metadata": {
        "id": "7vDElTxQyEbL"
      },
      "outputs": [],
      "source": [
        "y_train = to_categorical(y_train, 10)\n",
        "y_test = to_categorical(y_test, 10)\n"
      ]
    },
    {
      "cell_type": "code",
      "execution_count": null,
      "metadata": {
        "id": "tt2GiGmnyUuT"
      },
      "outputs": [],
      "source": [
        "model = Sequential()\n",
        "model.add(Conv2D(32, kernel_size=(3, 3), activation='relu', input_shape=(28, 28, 1)))\n",
        "model.add(MaxPooling2D(pool_size=(2, 2)))\n",
        "model.add(Conv2D(64, kernel_size=(3, 3), activation='relu'))\n",
        "model.add(MaxPooling2D(pool_size=(2, 2)))\n",
        "model.add(Flatten())\n",
        "model.add(Dense(128, activation='relu'))\n",
        "model.add(Dropout(0.5))\n",
        "model.add(Dense(10, activation='softmax'))\n"
      ]
    },
    {
      "cell_type": "code",
      "execution_count": null,
      "metadata": {
        "id": "R5iCFB-gyZIa"
      },
      "outputs": [],
      "source": [
        "# Compile the model\n",
        "model.compile(optimizer='adam', loss='categorical_crossentropy', metrics=['accuracy'])"
      ]
    },
    {
      "cell_type": "code",
      "execution_count": null,
      "metadata": {
        "colab": {
          "base_uri": "https://localhost:8080/"
        },
        "id": "x0i1INeayhcE",
        "outputId": "81e0fc07-27b7-4c48-a662-4309bb584d61"
      },
      "outputs": [
        {
          "name": "stdout",
          "output_type": "stream",
          "text": [
            "Epoch 1/10\n",
            "469/469 [==============================] - 63s 132ms/step - loss: 0.3711 - accuracy: 0.8871 - val_loss: 0.0845 - val_accuracy: 0.9725\n",
            "Epoch 2/10\n",
            "469/469 [==============================] - 56s 120ms/step - loss: 0.1269 - accuracy: 0.9629 - val_loss: 0.0571 - val_accuracy: 0.9808\n",
            "Epoch 3/10\n",
            "469/469 [==============================] - 56s 120ms/step - loss: 0.0969 - accuracy: 0.9717 - val_loss: 0.0474 - val_accuracy: 0.9834\n",
            "Epoch 4/10\n",
            "469/469 [==============================] - 56s 119ms/step - loss: 0.0811 - accuracy: 0.9763 - val_loss: 0.0505 - val_accuracy: 0.9836\n",
            "Epoch 5/10\n",
            "469/469 [==============================] - 55s 118ms/step - loss: 0.0721 - accuracy: 0.9793 - val_loss: 0.0424 - val_accuracy: 0.9847\n",
            "Epoch 6/10\n",
            "469/469 [==============================] - 55s 118ms/step - loss: 0.0602 - accuracy: 0.9823 - val_loss: 0.0413 - val_accuracy: 0.9862\n",
            "Epoch 7/10\n",
            "469/469 [==============================] - 55s 118ms/step - loss: 0.0548 - accuracy: 0.9834 - val_loss: 0.0424 - val_accuracy: 0.9858\n",
            "Epoch 8/10\n",
            "469/469 [==============================] - 55s 118ms/step - loss: 0.0492 - accuracy: 0.9850 - val_loss: 0.0378 - val_accuracy: 0.9879\n",
            "Epoch 9/10\n",
            "469/469 [==============================] - 55s 118ms/step - loss: 0.0460 - accuracy: 0.9854 - val_loss: 0.0403 - val_accuracy: 0.9873\n",
            "Epoch 10/10\n",
            "469/469 [==============================] - 55s 118ms/step - loss: 0.0391 - accuracy: 0.9884 - val_loss: 0.0403 - val_accuracy: 0.9875\n"
          ]
        },
        {
          "data": {
            "text/plain": [
              "<keras.callbacks.History at 0x7fbe186aa370>"
            ]
          },
          "execution_count": 15,
          "metadata": {},
          "output_type": "execute_result"
        }
      ],
      "source": [
        "# Train the model\n",
        "model.fit(x_train, y_train, batch_size=128, epochs=10, verbose=1, validation_data=(x_test, y_test))"
      ]
    },
    {
      "cell_type": "markdown",
      "source": [
        "# SVM"
      ],
      "metadata": {
        "id": "jh9y9FytvUY4"
      }
    },
    {
      "cell_type": "code",
      "execution_count": null,
      "metadata": {
        "id": "jxpBSD-4ylU3"
      },
      "outputs": [],
      "source": [
        "import numpy as np\n",
        "import cv2\n",
        "from skimage import feature\n",
        "from tensorflow.keras.datasets import mnist\n",
        "from sklearn import svm\n",
        "from sklearn.metrics import accuracy_score\n",
        "from sklearn.model_selection import train_test_split\n",
        "\n"
      ]
    },
    {
      "cell_type": "code",
      "execution_count": null,
      "metadata": {
        "id": "7Rp5F5z72KXd"
      },
      "outputs": [],
      "source": [
        "# Load the MNIST dataset\n",
        "(x_train, y_train), (x_test, y_test) = mnist.load_data()\n",
        "\n",
        "# Image preprocessing function\n",
        "def preprocess_image(image):\n",
        "    # Apply Gaussian blur for noise removal\n",
        "    blurred = cv2.GaussianBlur(image, (5, 5), 0)\n",
        "\n",
        "    # Apply thresholding (OTSU's method)\n",
        "    _, thresholded = cv2.threshold(blurred, 0, 255, cv2.THRESH_BINARY_INV + cv2.THRESH_OTSU)\n",
        "\n",
        "    return thresholded\n",
        "\n",
        "\n"
      ]
    },
    {
      "cell_type": "code",
      "execution_count": null,
      "metadata": {
        "id": "XrY_nRGp2spn"
      },
      "outputs": [],
      "source": [
        "# Feature extraction function using Local Binary Patterns (LBP)\n",
        "def extract_features(image, num_points=24, radius=3):\n",
        "    lbp = feature.local_binary_pattern(image, num_points, radius, method='uniform')\n",
        "    hist, _ = np.histogram(lbp.ravel(), bins=np.arange(0, num_points + 3), range=(0, num_points + 2))\n",
        "    hist = hist.astype('float')\n",
        "    hist /= (hist.sum() + 1e-7)  # Normalize the histogram\n",
        "    return hist\n",
        "\n",
        "# Preprocess the images and extract features\n",
        "x_train = np.array([extract_features(preprocess_image(img)) for img in x_train])\n",
        "x_test = np.array([extract_features(preprocess_image(img)) for img in x_test])\n",
        "\n"
      ]
    },
    {
      "cell_type": "code",
      "execution_count": null,
      "metadata": {
        "colab": {
          "base_uri": "https://localhost:8080/",
          "height": 74
        },
        "id": "wbZYDkhE2u3p",
        "outputId": "c656287d-2c9c-459d-c648-8cf77a59807d"
      },
      "outputs": [
        {
          "data": {
            "text/html": [
              "<style>#sk-container-id-1 {color: black;background-color: white;}#sk-container-id-1 pre{padding: 0;}#sk-container-id-1 div.sk-toggleable {background-color: white;}#sk-container-id-1 label.sk-toggleable__label {cursor: pointer;display: block;width: 100%;margin-bottom: 0;padding: 0.3em;box-sizing: border-box;text-align: center;}#sk-container-id-1 label.sk-toggleable__label-arrow:before {content: \"▸\";float: left;margin-right: 0.25em;color: #696969;}#sk-container-id-1 label.sk-toggleable__label-arrow:hover:before {color: black;}#sk-container-id-1 div.sk-estimator:hover label.sk-toggleable__label-arrow:before {color: black;}#sk-container-id-1 div.sk-toggleable__content {max-height: 0;max-width: 0;overflow: hidden;text-align: left;background-color: #f0f8ff;}#sk-container-id-1 div.sk-toggleable__content pre {margin: 0.2em;color: black;border-radius: 0.25em;background-color: #f0f8ff;}#sk-container-id-1 input.sk-toggleable__control:checked~div.sk-toggleable__content {max-height: 200px;max-width: 100%;overflow: auto;}#sk-container-id-1 input.sk-toggleable__control:checked~label.sk-toggleable__label-arrow:before {content: \"▾\";}#sk-container-id-1 div.sk-estimator input.sk-toggleable__control:checked~label.sk-toggleable__label {background-color: #d4ebff;}#sk-container-id-1 div.sk-label input.sk-toggleable__control:checked~label.sk-toggleable__label {background-color: #d4ebff;}#sk-container-id-1 input.sk-hidden--visually {border: 0;clip: rect(1px 1px 1px 1px);clip: rect(1px, 1px, 1px, 1px);height: 1px;margin: -1px;overflow: hidden;padding: 0;position: absolute;width: 1px;}#sk-container-id-1 div.sk-estimator {font-family: monospace;background-color: #f0f8ff;border: 1px dotted black;border-radius: 0.25em;box-sizing: border-box;margin-bottom: 0.5em;}#sk-container-id-1 div.sk-estimator:hover {background-color: #d4ebff;}#sk-container-id-1 div.sk-parallel-item::after {content: \"\";width: 100%;border-bottom: 1px solid gray;flex-grow: 1;}#sk-container-id-1 div.sk-label:hover label.sk-toggleable__label {background-color: #d4ebff;}#sk-container-id-1 div.sk-serial::before {content: \"\";position: absolute;border-left: 1px solid gray;box-sizing: border-box;top: 0;bottom: 0;left: 50%;z-index: 0;}#sk-container-id-1 div.sk-serial {display: flex;flex-direction: column;align-items: center;background-color: white;padding-right: 0.2em;padding-left: 0.2em;position: relative;}#sk-container-id-1 div.sk-item {position: relative;z-index: 1;}#sk-container-id-1 div.sk-parallel {display: flex;align-items: stretch;justify-content: center;background-color: white;position: relative;}#sk-container-id-1 div.sk-item::before, #sk-container-id-1 div.sk-parallel-item::before {content: \"\";position: absolute;border-left: 1px solid gray;box-sizing: border-box;top: 0;bottom: 0;left: 50%;z-index: -1;}#sk-container-id-1 div.sk-parallel-item {display: flex;flex-direction: column;z-index: 1;position: relative;background-color: white;}#sk-container-id-1 div.sk-parallel-item:first-child::after {align-self: flex-end;width: 50%;}#sk-container-id-1 div.sk-parallel-item:last-child::after {align-self: flex-start;width: 50%;}#sk-container-id-1 div.sk-parallel-item:only-child::after {width: 0;}#sk-container-id-1 div.sk-dashed-wrapped {border: 1px dashed gray;margin: 0 0.4em 0.5em 0.4em;box-sizing: border-box;padding-bottom: 0.4em;background-color: white;}#sk-container-id-1 div.sk-label label {font-family: monospace;font-weight: bold;display: inline-block;line-height: 1.2em;}#sk-container-id-1 div.sk-label-container {text-align: center;}#sk-container-id-1 div.sk-container {/* jupyter's `normalize.less` sets `[hidden] { display: none; }` but bootstrap.min.css set `[hidden] { display: none !important; }` so we also need the `!important` here to be able to override the default hidden behavior on the sphinx rendered scikit-learn.org. See: https://github.com/scikit-learn/scikit-learn/issues/21755 */display: inline-block !important;position: relative;}#sk-container-id-1 div.sk-text-repr-fallback {display: none;}</style><div id=\"sk-container-id-1\" class=\"sk-top-container\"><div class=\"sk-text-repr-fallback\"><pre>SVC(C=1, kernel=&#x27;linear&#x27;)</pre><b>In a Jupyter environment, please rerun this cell to show the HTML representation or trust the notebook. <br />On GitHub, the HTML representation is unable to render, please try loading this page with nbviewer.org.</b></div><div class=\"sk-container\" hidden><div class=\"sk-item\"><div class=\"sk-estimator sk-toggleable\"><input class=\"sk-toggleable__control sk-hidden--visually\" id=\"sk-estimator-id-1\" type=\"checkbox\" checked><label for=\"sk-estimator-id-1\" class=\"sk-toggleable__label sk-toggleable__label-arrow\">SVC</label><div class=\"sk-toggleable__content\"><pre>SVC(C=1, kernel=&#x27;linear&#x27;)</pre></div></div></div></div></div>"
            ],
            "text/plain": [
              "SVC(C=1, kernel='linear')"
            ]
          },
          "execution_count": 20,
          "metadata": {},
          "output_type": "execute_result"
        }
      ],
      "source": [
        "# Train an SVM classifier\n",
        "clf = svm.SVC(kernel='linear', C=1)\n",
        "clf.fit(x_train, y_train)\n",
        "\n"
      ]
    },
    {
      "cell_type": "code",
      "execution_count": null,
      "metadata": {
        "colab": {
          "base_uri": "https://localhost:8080/"
        },
        "id": "KQtQnLL63A8A",
        "outputId": "6e38489a-8b47-45aa-ab2b-0eaf4c111c07"
      },
      "outputs": [
        {
          "name": "stdout",
          "output_type": "stream",
          "text": [
            "Accuracy: 55.63%\n"
          ]
        }
      ],
      "source": [
        "# Make predictions on the test dataset\n",
        "y_pred = clf.predict(x_test)\n",
        "\n",
        "# Calculate the accuracy\n",
        "accuracy = accuracy_score(y_test, y_pred)\n",
        "print(f\"Accuracy: {accuracy * 100:.2f}%\")"
      ]
    },
    {
      "cell_type": "code",
      "execution_count": null,
      "metadata": {
        "id": "ZeM6Rp3c4Hcn"
      },
      "outputs": [],
      "source": [
        "from sklearn.metrics import accuracy_score, classification_report, confusion_matrix"
      ]
    },
    {
      "cell_type": "code",
      "execution_count": null,
      "metadata": {
        "colab": {
          "base_uri": "https://localhost:8080/"
        },
        "id": "MX1txyqb5Bat",
        "outputId": "c514d51e-f426-4c7c-bfcf-390731cb85b3"
      },
      "outputs": [
        {
          "name": "stdout",
          "output_type": "stream",
          "text": [
            "\n",
            "Classification Report:\n",
            "              precision    recall  f1-score   support\n",
            "\n",
            "           0       0.89      0.79      0.84       980\n",
            "           1       0.89      0.94      0.92      1135\n",
            "           2       0.36      0.37      0.37      1032\n",
            "           3       0.43      0.61      0.50      1010\n",
            "           4       0.45      0.57      0.51       982\n",
            "           5       0.49      0.07      0.12       892\n",
            "           6       0.43      0.38      0.40       958\n",
            "           7       0.59      0.54      0.56      1028\n",
            "           8       0.56      0.64      0.60       974\n",
            "           9       0.47      0.54      0.51      1009\n",
            "\n",
            "    accuracy                           0.56     10000\n",
            "   macro avg       0.56      0.55      0.53     10000\n",
            "weighted avg       0.56      0.56      0.54     10000\n",
            "\n",
            "Confusion Matrix:\n",
            "[[ 775    1   36   26    2    1   92    4   40    3]\n",
            " [   0 1071    0    2    7    0   14   10   21   10]\n",
            " [  33    1  384  251  199   12   42   30   65   15]\n",
            " [   7    2  136  620   97   15   15   12  100    6]\n",
            " [   0   21   93   81  563    5   34   79   34   72]\n",
            " [   6    3  212  300  124   63   59   13   72   40]\n",
            " [  19   31  108   35   41   20  362   52   94  196]\n",
            " [   2   15   24   15  131    1   38  553   27  222]\n",
            " [  19   25   45  108   15    6   87    3  624   42]\n",
            " [  14   34   23    8   66    6  101  179   30  548]]\n"
          ]
        }
      ],
      "source": [
        "# Generate the classification report\n",
        "report = classification_report(y_test, y_pred)\n",
        "print(\"\\nClassification Report:\")\n",
        "print(report)\n",
        "\n",
        "# Generate the confusion matrix\n",
        "matrix = confusion_matrix(y_test, y_pred)\n",
        "print(\"Confusion Matrix:\")\n",
        "print(matrix)"
      ]
    },
    {
      "cell_type": "code",
      "execution_count": null,
      "metadata": {
        "colab": {
          "base_uri": "https://localhost:8080/",
          "height": 414
        },
        "id": "r-_JUpHA6v6g",
        "outputId": "17031442-f791-4cdb-b7cd-f45088c83984"
      },
      "outputs": [
        {
          "ename": "error",
          "evalue": "ignored",
          "output_type": "error",
          "traceback": [
            "\u001b[0;31m---------------------------------------------------------------------------\u001b[0m",
            "\u001b[0;31merror\u001b[0m                                     Traceback (most recent call last)",
            "\u001b[0;32m<ipython-input-25-9dd5dd36af02>\u001b[0m in \u001b[0;36m<module>\u001b[0;34m\u001b[0m\n\u001b[0;32m----> 1\u001b[0;31m \u001b[0mpreprocessed_x_train\u001b[0m \u001b[0;34m=\u001b[0m \u001b[0mnp\u001b[0m\u001b[0;34m.\u001b[0m\u001b[0marray\u001b[0m\u001b[0;34m(\u001b[0m\u001b[0;34m[\u001b[0m\u001b[0mpreprocess_image\u001b[0m\u001b[0;34m(\u001b[0m\u001b[0mimg\u001b[0m\u001b[0;34m)\u001b[0m \u001b[0;32mfor\u001b[0m \u001b[0mimg\u001b[0m \u001b[0;32min\u001b[0m \u001b[0mx_train\u001b[0m\u001b[0;34m]\u001b[0m\u001b[0;34m)\u001b[0m\u001b[0;34m\u001b[0m\u001b[0;34m\u001b[0m\u001b[0m\n\u001b[0m\u001b[1;32m      2\u001b[0m \u001b[0mpreprocessed_x_test\u001b[0m \u001b[0;34m=\u001b[0m \u001b[0mnp\u001b[0m\u001b[0;34m.\u001b[0m\u001b[0marray\u001b[0m\u001b[0;34m(\u001b[0m\u001b[0;34m[\u001b[0m\u001b[0mpreprocess_image\u001b[0m\u001b[0;34m(\u001b[0m\u001b[0mimg\u001b[0m\u001b[0;34m)\u001b[0m \u001b[0;32mfor\u001b[0m \u001b[0mimg\u001b[0m \u001b[0;32min\u001b[0m \u001b[0mx_test\u001b[0m\u001b[0;34m]\u001b[0m\u001b[0;34m)\u001b[0m\u001b[0;34m\u001b[0m\u001b[0;34m\u001b[0m\u001b[0m\n",
            "\u001b[0;32m<ipython-input-25-9dd5dd36af02>\u001b[0m in \u001b[0;36m<listcomp>\u001b[0;34m(.0)\u001b[0m\n\u001b[0;32m----> 1\u001b[0;31m \u001b[0mpreprocessed_x_train\u001b[0m \u001b[0;34m=\u001b[0m \u001b[0mnp\u001b[0m\u001b[0;34m.\u001b[0m\u001b[0marray\u001b[0m\u001b[0;34m(\u001b[0m\u001b[0;34m[\u001b[0m\u001b[0mpreprocess_image\u001b[0m\u001b[0;34m(\u001b[0m\u001b[0mimg\u001b[0m\u001b[0;34m)\u001b[0m \u001b[0;32mfor\u001b[0m \u001b[0mimg\u001b[0m \u001b[0;32min\u001b[0m \u001b[0mx_train\u001b[0m\u001b[0;34m]\u001b[0m\u001b[0;34m)\u001b[0m\u001b[0;34m\u001b[0m\u001b[0;34m\u001b[0m\u001b[0m\n\u001b[0m\u001b[1;32m      2\u001b[0m \u001b[0mpreprocessed_x_test\u001b[0m \u001b[0;34m=\u001b[0m \u001b[0mnp\u001b[0m\u001b[0;34m.\u001b[0m\u001b[0marray\u001b[0m\u001b[0;34m(\u001b[0m\u001b[0;34m[\u001b[0m\u001b[0mpreprocess_image\u001b[0m\u001b[0;34m(\u001b[0m\u001b[0mimg\u001b[0m\u001b[0;34m)\u001b[0m \u001b[0;32mfor\u001b[0m \u001b[0mimg\u001b[0m \u001b[0;32min\u001b[0m \u001b[0mx_test\u001b[0m\u001b[0;34m]\u001b[0m\u001b[0;34m)\u001b[0m\u001b[0;34m\u001b[0m\u001b[0;34m\u001b[0m\u001b[0m\n",
            "\u001b[0;32m<ipython-input-18-e5230b1ff0c4>\u001b[0m in \u001b[0;36mpreprocess_image\u001b[0;34m(image)\u001b[0m\n\u001b[1;32m      8\u001b[0m \u001b[0;34m\u001b[0m\u001b[0m\n\u001b[1;32m      9\u001b[0m     \u001b[0;31m# Apply thresholding (OTSU's method)\u001b[0m\u001b[0;34m\u001b[0m\u001b[0;34m\u001b[0m\u001b[0m\n\u001b[0;32m---> 10\u001b[0;31m     \u001b[0m_\u001b[0m\u001b[0;34m,\u001b[0m \u001b[0mthresholded\u001b[0m \u001b[0;34m=\u001b[0m \u001b[0mcv2\u001b[0m\u001b[0;34m.\u001b[0m\u001b[0mthreshold\u001b[0m\u001b[0;34m(\u001b[0m\u001b[0mblurred\u001b[0m\u001b[0;34m,\u001b[0m \u001b[0;36m0\u001b[0m\u001b[0;34m,\u001b[0m \u001b[0;36m255\u001b[0m\u001b[0;34m,\u001b[0m \u001b[0mcv2\u001b[0m\u001b[0;34m.\u001b[0m\u001b[0mTHRESH_BINARY_INV\u001b[0m \u001b[0;34m+\u001b[0m \u001b[0mcv2\u001b[0m\u001b[0;34m.\u001b[0m\u001b[0mTHRESH_OTSU\u001b[0m\u001b[0;34m)\u001b[0m\u001b[0;34m\u001b[0m\u001b[0;34m\u001b[0m\u001b[0m\n\u001b[0m\u001b[1;32m     11\u001b[0m \u001b[0;34m\u001b[0m\u001b[0m\n\u001b[1;32m     12\u001b[0m     \u001b[0;32mreturn\u001b[0m \u001b[0mthresholded\u001b[0m\u001b[0;34m\u001b[0m\u001b[0;34m\u001b[0m\u001b[0m\n",
            "\u001b[0;31merror\u001b[0m: OpenCV(4.6.0) /io/opencv/modules/imgproc/src/thresh.cpp:1555: error: (-2:Unspecified error) in function 'double cv::threshold(cv::InputArray, cv::OutputArray, double, double, int)'\n> THRESH_OTSU mode:\n>     'src_type == CV_8UC1 || src_type == CV_16UC1'\n> where\n>     'src_type' is 6 (CV_64FC1)\n"
          ]
        }
      ],
      "source": [
        "preprocessed_x_train = np.array([preprocess_image(img) for img in x_train])\n",
        "preprocessed_x_test = np.array([preprocess_image(img) for img in x_test])"
      ]
    },
    {
      "cell_type": "code",
      "execution_count": null,
      "metadata": {
        "colab": {
          "base_uri": "https://localhost:8080/",
          "height": 496
        },
        "id": "mowOeXeQ5JQf",
        "outputId": "a5f043e9-a1eb-4296-8926-dba4b7f6c4c2"
      },
      "outputs": [
        {
          "ename": "ValueError",
          "evalue": "ignored",
          "output_type": "error",
          "traceback": [
            "\u001b[0;31m---------------------------------------------------------------------------\u001b[0m",
            "\u001b[0;31mValueError\u001b[0m                                Traceback (most recent call last)",
            "\u001b[0;32m<ipython-input-24-5a8e193bd6c2>\u001b[0m in \u001b[0;36m<module>\u001b[0;34m\u001b[0m\n\u001b[1;32m      5\u001b[0m     \u001b[0;31m# Display the original image\u001b[0m\u001b[0;34m\u001b[0m\u001b[0;34m\u001b[0m\u001b[0m\n\u001b[1;32m      6\u001b[0m     \u001b[0max\u001b[0m \u001b[0;34m=\u001b[0m \u001b[0mplt\u001b[0m\u001b[0;34m.\u001b[0m\u001b[0msubplot\u001b[0m\u001b[0;34m(\u001b[0m\u001b[0;36m1\u001b[0m\u001b[0;34m,\u001b[0m \u001b[0mn_images\u001b[0m\u001b[0;34m,\u001b[0m \u001b[0mi\u001b[0m \u001b[0;34m+\u001b[0m \u001b[0;36m1\u001b[0m\u001b[0;34m)\u001b[0m\u001b[0;34m\u001b[0m\u001b[0;34m\u001b[0m\u001b[0m\n\u001b[0;32m----> 7\u001b[0;31m     \u001b[0mplt\u001b[0m\u001b[0;34m.\u001b[0m\u001b[0mimshow\u001b[0m\u001b[0;34m(\u001b[0m\u001b[0mx_test\u001b[0m\u001b[0;34m[\u001b[0m\u001b[0mi\u001b[0m\u001b[0;34m]\u001b[0m\u001b[0;34m.\u001b[0m\u001b[0mreshape\u001b[0m\u001b[0;34m(\u001b[0m\u001b[0;36m28\u001b[0m\u001b[0;34m,\u001b[0m \u001b[0;36m28\u001b[0m\u001b[0;34m)\u001b[0m\u001b[0;34m,\u001b[0m \u001b[0mcmap\u001b[0m\u001b[0;34m=\u001b[0m\u001b[0;34m'gray'\u001b[0m\u001b[0;34m)\u001b[0m\u001b[0;34m\u001b[0m\u001b[0;34m\u001b[0m\u001b[0m\n\u001b[0m\u001b[1;32m      8\u001b[0m     \u001b[0max\u001b[0m\u001b[0;34m.\u001b[0m\u001b[0mget_xaxis\u001b[0m\u001b[0;34m(\u001b[0m\u001b[0;34m)\u001b[0m\u001b[0;34m.\u001b[0m\u001b[0mset_visible\u001b[0m\u001b[0;34m(\u001b[0m\u001b[0;32mFalse\u001b[0m\u001b[0;34m)\u001b[0m\u001b[0;34m\u001b[0m\u001b[0;34m\u001b[0m\u001b[0m\n\u001b[1;32m      9\u001b[0m     \u001b[0max\u001b[0m\u001b[0;34m.\u001b[0m\u001b[0mget_yaxis\u001b[0m\u001b[0;34m(\u001b[0m\u001b[0;34m)\u001b[0m\u001b[0;34m.\u001b[0m\u001b[0mset_visible\u001b[0m\u001b[0;34m(\u001b[0m\u001b[0;32mFalse\u001b[0m\u001b[0;34m)\u001b[0m\u001b[0;34m\u001b[0m\u001b[0;34m\u001b[0m\u001b[0m\n",
            "\u001b[0;31mValueError\u001b[0m: cannot reshape array of size 26 into shape (28,28)"
          ]
        },
        {
          "data": {
            "image/png": "[encoded data removed]",
            "text/plain": [
              "<Figure size 1440x288 with 1 Axes>"
            ]
          },
          "metadata": {},
          "output_type": "display_data"
        }
      ],
      "source": [
        "import matplotlib.pyplot as plt\n",
        "n_images = 5\n",
        "plt.figure(figsize=(20, 4))\n",
        "for i in range(n_images):\n",
        "    # Display the original image\n",
        "    ax = plt.subplot(1, n_images, i + 1)\n",
        "    plt.imshow(x_test[i].reshape(28, 28), cmap='gray')\n",
        "    ax.get_xaxis().set_visible(False)\n",
        "    ax.get_yaxis().set_visible(False)\n",
        "    plt.title(f\"True: {y_test[i]}, Pred: {y_pred[i]}\", fontsize=12)\n",
        "\n",
        "plt.show()"
      ]
    },
    {
      "cell_type": "code",
      "execution_count": null,
      "metadata": {
        "colab": {
          "base_uri": "https://localhost:8080/",
          "height": 804
        },
        "id": "vvTwXwT46He_",
        "outputId": "c2335559-a967-46da-ee76-9d4d17fb4bb9"
      },
      "outputs": [
        {
          "name": "stdout",
          "output_type": "stream",
          "text": [
            "Accuracy: 66.09%\n",
            "\n",
            "Classification Report:\n",
            "              precision    recall  f1-score   support\n",
            "\n",
            "           0       0.88      0.90      0.89       980\n",
            "           1       0.94      0.97      0.96      1135\n",
            "           2       0.46      0.42      0.44      1032\n",
            "           3       0.49      0.64      0.55      1010\n",
            "           4       0.64      0.82      0.72       982\n",
            "           5       0.50      0.18      0.27       892\n",
            "           6       0.64      0.61      0.62       958\n",
            "           7       0.72      0.71      0.71      1028\n",
            "           8       0.72      0.67      0.69       974\n",
            "           9       0.53      0.61      0.57      1009\n",
            "\n",
            "    accuracy                           0.66     10000\n",
            "   macro avg       0.65      0.65      0.64     10000\n",
            "weighted avg       0.66      0.66      0.65     10000\n",
            "\n",
            "Confusion Matrix:\n",
            "[[ 878    0    7    1    0    4   59    2    1   28]\n",
            " [   0 1104    1    0    9    0    1   19    0    1]\n",
            " [  12    0  438  221  141   72   42   30   40   36]\n",
            " [   0    0  188  643   60   16    1    5   73   24]\n",
            " [   0    2   71   16  803    5    0   68    0   17]\n",
            " [   2    2  146  275   42  163   55   25   68  114]\n",
            " [  64    6   21    3   10   24  582   43   13  192]\n",
            " [   3   40   14    2  151    1   25  732    1   59]\n",
            " [  15    1   45  130    9   10   36    8  648   72]\n",
            " [  21   14   25   22   23   32  114   90   50  618]]\n"
          ]
        },
        {
          "data": {
            "image/png": "[encoded data removed]",
            "text/plain": [
              "<Figure size 1440x288 with 5 Axes>"
            ]
          },
          "metadata": {},
          "output_type": "display_data"
        }
      ],
      "source": [
        "import numpy as np\n",
        "import cv2\n",
        "from skimage import feature\n",
        "from tensorflow.keras.datasets import mnist\n",
        "from sklearn import svm\n",
        "from sklearn.metrics import accuracy_score, classification_report, confusion_matrix\n",
        "import matplotlib.pyplot as plt\n",
        "\n",
        "def preprocess_image(image):\n",
        "    return cv2.GaussianBlur(image, (5, 5), 0)\n",
        "\n",
        "def extract_features(image, num_points=24, radius=3):\n",
        "    lbp = feature.local_binary_pattern(image, num_points, radius, method=\"uniform\")\n",
        "    hist, _ = np.histogram(lbp.ravel(), bins=np.arange(0, num_points + 3), range=(0, num_points + 2))\n",
        "    hist = hist.astype(\"float\")\n",
        "    hist /= (hist.sum() + 1e-7)\n",
        "    return hist\n",
        "\n",
        "# Load the MNIST dataset\n",
        "(x_train, y_train), (x_test, y_test) = mnist.load_data()\n",
        "\n",
        "# Preprocess the images and extract features\n",
        "preprocessed_x_train = np.array([preprocess_image(img) for img in x_train])\n",
        "preprocessed_x_test = np.array([preprocess_image(img) for img in x_test])\n",
        "\n",
        "x_train_features = np.array([extract_features(img) for img in preprocessed_x_train])\n",
        "x_test_features = np.array([extract_features(img) for img in preprocessed_x_test])\n",
        "\n",
        "# Train an SVM classifier\n",
        "clf = svm.SVC(kernel='linear', C=1)\n",
        "clf.fit(x_train_features, y_train)\n",
        "\n",
        "# Make predictions on the test dataset\n",
        "y_pred = clf.predict(x_test_features)\n",
        "\n",
        "# Calculate the accuracy\n",
        "accuracy = accuracy_score(y_test, y_pred)\n",
        "print(f\"Accuracy: {accuracy * 100:.2f}%\")\n",
        "\n",
        "# Generate the classification report\n",
        "report = classification_report(y_test, y_pred)\n",
        "print(\"\\nClassification Report:\")\n",
        "print(report)\n",
        "\n",
        "# Generate the confusion matrix\n",
        "matrix = confusion_matrix(y_test, y_pred)\n",
        "print(\"Confusion Matrix:\")\n",
        "print(matrix)\n",
        "\n",
        "# Visualize the first 5 images in the test dataset, their true labels, and predicted labels\n",
        "n_images = 5\n",
        "\n",
        "plt.figure(figsize=(20, 4))\n",
        "for i in range(n_images):\n",
        "    # Display the original image\n",
        "    ax = plt.subplot(1, n_images, i + 1)\n",
        "    plt.imshow(preprocessed_x_test[i], cmap='gray')\n",
        "    ax.get_xaxis().set_visible(False)\n",
        "    ax.get_yaxis().set_visible(False)\n",
        "    plt.title(f\"True: {y_test[i]}, Pred: {y_pred[i]}\", fontsize=12)\n",
        "\n",
        "plt.show()\n"
      ]
    },
    {
      "cell_type": "code",
      "execution_count": null,
      "metadata": {
        "colab": {
          "base_uri": "https://localhost:8080/",
          "height": 141
        },
        "id": "pOW93o-p7POm",
        "outputId": "b32efc78-0a76-41f1-fdb4-eac4a2bd1b15"
      },
      "outputs": [
        {
          "data": {
            "image/png": "[encoded data removed]",
            "text/plain": [
              "<Figure size 1440x288 with 10 Axes>"
            ]
          },
          "metadata": {},
          "output_type": "display_data"
        }
      ],
      "source": [
        "# Visualize the first 5 images in the test dataset, their true labels, and predicted labels\n",
        "n_images = 10\n",
        "\n",
        "plt.figure(figsize=(20, 4))\n",
        "for i in range(n_images):\n",
        "    # Display the original image\n",
        "    ax = plt.subplot(1, n_images, i + 1)\n",
        "    plt.imshow(preprocessed_x_test[i], cmap='gray')\n",
        "    ax.get_xaxis().set_visible(False)\n",
        "    ax.get_yaxis().set_visible(False)\n",
        "    plt.title(f\"True: {y_test[i]}, Pred: {y_pred[i]}\", fontsize=12)\n",
        "\n",
        "plt.show()"
      ]
    },
    {
      "cell_type": "code",
      "execution_count": null,
      "metadata": {
        "id": "hZKSMxRx8d6H"
      },
      "outputs": [],
      "source": []
    },
    {
      "cell_type": "markdown",
      "metadata": {
        "id": "_oQyqAEb8sOp"
      },
      "source": [
        "RBF kernel"
      ]
    },
    {
      "cell_type": "code",
      "execution_count": null,
      "metadata": {
        "colab": {
          "base_uri": "https://localhost:8080/"
        },
        "id": "gTkPgVpx8tGG",
        "outputId": "f9b92253-1ab1-4fda-f80d-728ab1b98492"
      },
      "outputs": [
        {
          "name": "stdout",
          "output_type": "stream",
          "text": [
            "Accuracy: 71.48%\n",
            "\n",
            "Classification Report:\n",
            "              precision    recall  f1-score   support\n",
            "\n",
            "           0       0.94      0.93      0.94       980\n",
            "           1       0.97      0.97      0.97      1135\n",
            "           2       0.50      0.46      0.48      1032\n",
            "           3       0.59      0.64      0.61      1010\n",
            "           4       0.68      0.85      0.75       982\n",
            "           5       0.56      0.43      0.49       892\n",
            "           6       0.69      0.71      0.70       958\n",
            "           7       0.76      0.73      0.75      1028\n",
            "           8       0.75      0.75      0.75       974\n",
            "           9       0.64      0.63      0.64      1009\n",
            "\n",
            "    accuracy                           0.71     10000\n",
            "   macro avg       0.71      0.71      0.71     10000\n",
            "weighted avg       0.71      0.71      0.71     10000\n",
            "\n",
            "Confusion Matrix:\n",
            "[[ 912    0    6    0    0    2   28    2    3   27]\n",
            " [   0 1106    1    0   10    0    1   17    0    0]\n",
            " [   3    0  476  156  121  136   38   27   55   20]\n",
            " [   0    0  173  645   41   68    2    6   70    5]\n",
            " [   0    4   71   13  831    7    0   44    0   12]\n",
            " [   1    0  127  174   35  380   43   22   49   61]\n",
            " [  29    3   18    1    9   24  683   38   15  138]\n",
            " [   4   17   13    1  148    1   34  753    2   55]\n",
            " [   9    0   52   93   11   15   24    9  730   31]\n",
            " [  10   12   22   10   22   40  143   68   50  632]]\n"
          ]
        }
      ],
      "source": [
        "# Train an SVM classifier\n",
        "clf = svm.SVC(kernel='rbf', C=1)\n",
        "clf.fit(x_train_features, y_train)\n",
        "\n",
        "# Make predictions on the test dataset\n",
        "y_pred = clf.predict(x_test_features)\n",
        "\n",
        "# Calculate the accuracy\n",
        "accuracy = accuracy_score(y_test, y_pred)\n",
        "print(f\"Accuracy: {accuracy * 100:.2f}%\")\n",
        "\n",
        "# Generate the classification report\n",
        "report = classification_report(y_test, y_pred)\n",
        "print(\"\\nClassification Report:\")\n",
        "print(report)\n",
        "\n",
        "# Generate the confusion matrix\n",
        "matrix = confusion_matrix(y_test, y_pred)\n",
        "print(\"Confusion Matrix:\")\n",
        "print(matrix)"
      ]
    },
    {
      "cell_type": "code",
      "execution_count": null,
      "metadata": {
        "id": "IGNiCDIo8uk6"
      },
      "outputs": [],
      "source": [
        "from sklearn.metrics import f1_score"
      ]
    },
    {
      "cell_type": "code",
      "execution_count": null,
      "metadata": {
        "colab": {
          "base_uri": "https://localhost:8080/"
        },
        "id": "7QoWyzWe9blx",
        "outputId": "aac80e9d-fd41-472d-d4f5-b588a78e7786"
      },
      "outputs": [
        {
          "name": "stdout",
          "output_type": "stream",
          "text": [
            "F1 Score: 0.71\n"
          ]
        }
      ],
      "source": [
        "# Calculate the F1 score\n",
        "f1 = f1_score(y_test, y_pred, average='macro')\n",
        "print(f\"F1 Score: {f1:.2f}\")"
      ]
    },
    {
      "cell_type": "code",
      "execution_count": null,
      "metadata": {
        "colab": {
          "base_uri": "https://localhost:8080/"
        },
        "id": "iIy3qV9g9jnR",
        "outputId": "9a10eb7e-7e2c-4612-d9d6-c53b9889b1b9"
      },
      "outputs": [
        {
          "name": "stdout",
          "output_type": "stream",
          "text": [
            "Accuracy: 74.33%\n",
            "\n",
            "Classification Report:\n",
            "              precision    recall  f1-score   support\n",
            "\n",
            "           0       0.95      0.96      0.95       980\n",
            "           1       0.97      0.98      0.97      1135\n",
            "           2       0.52      0.51      0.51      1032\n",
            "           3       0.65      0.67      0.66      1010\n",
            "           4       0.72      0.85      0.78       982\n",
            "           5       0.58      0.50      0.54       892\n",
            "           6       0.71      0.76      0.74       958\n",
            "           7       0.79      0.75      0.77      1028\n",
            "           8       0.77      0.78      0.78       974\n",
            "           9       0.71      0.65      0.68      1009\n",
            "\n",
            "    accuracy                           0.74     10000\n",
            "   macro avg       0.74      0.74      0.74     10000\n",
            "weighted avg       0.74      0.74      0.74     10000\n",
            "\n",
            "Confusion Matrix:\n",
            "[[ 943    0    3    0    0    3   14    0    4   13]\n",
            " [   0 1108    1    0    9    0    4   13    0    0]\n",
            " [   2    1  524  127   99  152   35   29   53   10]\n",
            " [   0    0  159  673   26   79    2    8   60    3]\n",
            " [   0    7   70    6  833    7    1   45    1   12]\n",
            " [   1    0  136  148   29  448   34   19   28   49]\n",
            " [  18    2   18    2    5   22  725   34   20  112]\n",
            " [   5   13   12    1  133    1   46  768    4   45]\n",
            " [  14    0   65   66    8   20   17    7  758   19]\n",
            " [  12    7   22    8   23   45  136   51   52  653]]\n",
            "F1 Score: 0.74\n"
          ]
        }
      ],
      "source": [
        "# Train an SVM classifier\n",
        "clf = svm.SVC(kernel='poly', C=10)\n",
        "clf.fit(x_train_features, y_train)\n",
        "\n",
        "# Make predictions on the test dataset\n",
        "y_pred = clf.predict(x_test_features)\n",
        "\n",
        "# Calculate the accuracy\n",
        "accuracy = accuracy_score(y_test, y_pred)\n",
        "print(f\"Accuracy: {accuracy * 100:.2f}%\")\n",
        "\n",
        "# Generate the classification report\n",
        "report = classification_report(y_test, y_pred)\n",
        "print(\"\\nClassification Report:\")\n",
        "print(report)\n",
        "\n",
        "# Generate the confusion matrix\n",
        "matrix = confusion_matrix(y_test, y_pred)\n",
        "print(\"Confusion Matrix:\")\n",
        "print(matrix)\n",
        "\n",
        "# Calculate the F1 score\n",
        "f1 = f1_score(y_test, y_pred, average='macro')\n",
        "print(f\"F1 Score: {f1:.2f}\")"
      ]
    },
    {
      "cell_type": "code",
      "execution_count": null,
      "metadata": {
        "id": "H3544kwV-N2t"
      },
      "outputs": [],
      "source": [
        "import numpy as np\n",
        "import cv2\n",
        "from skimage.feature import hog, local_binary_pattern\n",
        "from tensorflow.keras.datasets import mnist\n",
        "from sklearn import svm\n",
        "from sklearn.model_selection import GridSearchCV\n",
        "from sklearn.metrics import accuracy_score, classification_report, confusion_matrix, f1_score\n",
        "import matplotlib.pyplot as plt\n",
        "\n",
        "\n",
        "\n",
        "# Calculate the F\n"
      ]
    },
    {
      "cell_type": "code",
      "execution_count": null,
      "metadata": {
        "id": "YC76SbozBU7r"
      },
      "outputs": [],
      "source": [
        "def preprocess_image(image):\n",
        "    return cv2.GaussianBlur(image, (5, 5), 0)\n",
        "\n",
        "def extract_hog_features(image):\n",
        "    features = hog(image, orientations=9, pixels_per_cell=(8, 8), cells_per_block=(2, 2), block_norm='L2-Hys', feature_vector=True)\n",
        "    return features\n",
        "\n",
        "def extract_sift_features(image):\n",
        "    sift = cv2.SIFT_create()\n",
        "    keypoints, descriptors = sift.detectAndCompute(image, None)\n",
        "    if descriptors is None:\n",
        "        descriptors = np.zeros((1, sift.descriptorSize()))\n",
        "    return descriptors.ravel()\n",
        "\n",
        "def extract_lbp_features(image):\n",
        "    lbp = local_binary_pattern(image, P=8, R=1, method=\"uniform\")\n",
        "    hist, _ = np.histogram(lbp, bins=np.arange(0, 59), density=True)\n",
        "    return hist\n",
        "\n"
      ]
    },
    {
      "cell_type": "code",
      "execution_count": null,
      "metadata": {
        "id": "aXmreNHPBap7"
      },
      "outputs": [],
      "source": [
        "# Load the MNIST dataset\n",
        "(x_train, y_train), (x_test, y_test) = mnist.load_data()\n",
        "\n",
        "# Choose the feature extraction method: 'hog', 'sift', or 'lbp'\n",
        "feature_extraction_method = 'lbp'  # or 'sift' or 'lbp' or hog'\n",
        "\n",
        "# Preprocess the images and extract features\n",
        "preprocessed_x_train = np.array([preprocess_image(img) for img in x_train])\n",
        "preprocessed_x_test = np.array([preprocess_image(img) for img in x_test])\n",
        "\n",
        "if feature_extraction_method == 'hog':\n",
        "    x_train_features = np.array([extract_hog_features(img) for img in preprocessed_x_train])\n",
        "    x_test_features = np.array([extract_hog_features(img) for img in preprocessed_x_test])\n",
        "elif feature_extraction_method == 'sift':\n",
        "    x_train_features = np.array([extract_sift_features(img) for img in preprocessed_x_train])\n",
        "    x_test_features = np.array([extract_sift_features(img) for img in preprocessed_x_test])\n",
        "elif feature_extraction_method == 'lbp':\n",
        "    x_train_features = np.array([extract_lbp_features(img) for img in preprocessed_x_train])\n",
        "    x_test_features = np.array([extract_lbp_features(img) for img in preprocessed_x_test])\n"
      ]
    },
    {
      "cell_type": "code",
      "execution_count": null,
      "metadata": {
        "id": "oAo1l40tBfte"
      },
      "outputs": [],
      "source": [
        "\n",
        "# Define the parameter grid for GridSearchCV\n",
        "param_grid = {\n",
        "    'C': [0.1, 1, 10],\n",
        "    'kernel': ['linear', 'poly', 'rbf'],\n",
        "    'degree': [2, 3, 4],  # Only used when kernel is 'poly'\n",
        "    'gamma': ['scale', 'auto']  # Only used when kernel is 'rbf' or 'poly'\n",
        "}\n",
        "\n",
        "# Create a base SVM classifier\n",
        "base_clf = svm.SVC()\n",
        "\n",
        "# Create the GridSearchCV object\n",
        "grid_search = GridSearchCV(base_clf, param_grid, scoring='accuracy', cv=5, n_jobs=-1, verbose=2)\n",
        "\n"
      ]
    },
    {
      "cell_type": "code",
      "execution_count": null,
      "metadata": {
        "colab": {
          "base_uri": "https://localhost:8080/"
        },
        "id": "zEZR209NBiJH",
        "outputId": "fbbf50db-a487-495b-f84d-c6a76894f7e1"
      },
      "outputs": [
        {
          "metadata": {
            "tags": null
          },
          "name": "stdout",
          "output_type": "stream",
          "text": [
            "Fitting 5 folds for each of 54 candidates, totalling 270 fits\n"
          ]
        }
      ],
      "source": [
        "# Train the SVM classifier using GridSearchCV to find the best parameters\n",
        "grid_search.fit(x_train_features, y_train)\n",
        "\n",
        "# Get the best estimator found by GridSearchCV\n",
        "best_clf = grid_search.best_estimator_\n",
        "\n"
      ]
    },
    {
      "cell_type": "code",
      "execution_count": null,
      "metadata": {
        "id": "z5NKCKcyBj_H",
        "colab": {
          "base_uri": "https://localhost:8080/",
          "height": 244
        },
        "outputId": "443b320a-e636-4ce9-fa4a-c45f19264d16"
      },
      "outputs": [
        {
          "output_type": "error",
          "ename": "NameError",
          "evalue": "ignored",
          "traceback": [
            "\u001b[0;31m---------------------------------------------------------------------------\u001b[0m",
            "\u001b[0;31mNameError\u001b[0m                                 Traceback (most recent call last)",
            "\u001b[0;32m<ipython-input-1-1cf9eca16415>\u001b[0m in \u001b[0;36m<module>\u001b[0;34m\u001b[0m\n\u001b[1;32m      1\u001b[0m \u001b[0;31m# Make predictions on the test dataset using the best estimator\u001b[0m\u001b[0;34m\u001b[0m\u001b[0;34m\u001b[0m\u001b[0m\n\u001b[0;32m----> 2\u001b[0;31m \u001b[0my_pred\u001b[0m \u001b[0;34m=\u001b[0m \u001b[0mbest_clf\u001b[0m\u001b[0;34m.\u001b[0m\u001b[0mpredict\u001b[0m\u001b[0;34m(\u001b[0m\u001b[0mx_test_features\u001b[0m\u001b[0;34m)\u001b[0m\u001b[0;34m\u001b[0m\u001b[0;34m\u001b[0m\u001b[0m\n\u001b[0m\u001b[1;32m      3\u001b[0m \u001b[0;34m\u001b[0m\u001b[0m\n\u001b[1;32m      4\u001b[0m \u001b[0;31m# Calculate the accuracy\u001b[0m\u001b[0;34m\u001b[0m\u001b[0;34m\u001b[0m\u001b[0m\n\u001b[1;32m      5\u001b[0m \u001b[0maccuracy\u001b[0m \u001b[0;34m=\u001b[0m \u001b[0maccuracy_score\u001b[0m\u001b[0;34m(\u001b[0m\u001b[0my_test\u001b[0m\u001b[0;34m,\u001b[0m \u001b[0my_pred\u001b[0m\u001b[0;34m)\u001b[0m\u001b[0;34m\u001b[0m\u001b[0;34m\u001b[0m\u001b[0m\n",
            "\u001b[0;31mNameError\u001b[0m: name 'best_clf' is not defined"
          ]
        }
      ],
      "source": [
        "# Make predictions on the test dataset using the best estimator\n",
        "y_pred = best_clf.predict(x_test_features)\n",
        "\n",
        "# Calculate the accuracy\n",
        "accuracy = accuracy_score(y_test, y_pred)\n",
        "print(f\"Accuracy: {accuracy * 100:.2f}%\")"
      ]
    },
    {
      "cell_type": "code",
      "execution_count": null,
      "metadata": {
        "id": "VwmIWlsPBmlq"
      },
      "outputs": [],
      "source": [
        "# Calculate the F1 score\n",
        "f1 = f1_score(y_test, y_pred, average='macro')\n",
        "print(f\"F1 Score: {f1:.2f}\")\n",
        "\n",
        "# Calculate the classification report\n",
        "report = classification_report(y_test, y_pred)\n",
        "print(\"Classification Report:\")\n",
        "print(report)"
      ]
    },
    {
      "cell_type": "code",
      "source": [],
      "metadata": {
        "id": "WikFXzORPV3w"
      },
      "execution_count": null,
      "outputs": []
    },
    {
      "cell_type": "markdown",
      "source": [
        "kernel=linear, C=10, lbp"
      ],
      "metadata": {
        "id": "YqwyLQ98uEB3"
      }
    },
    {
      "cell_type": "code",
      "source": [
        "import numpy as np\n",
        "import cv2\n",
        "from skimage import feature\n",
        "from tensorflow.keras.datasets import mnist\n",
        "from sklearn import svm\n",
        "from sklearn.metrics import accuracy_score, classification_report, confusion_matrix\n",
        "import matplotlib.pyplot as plt\n",
        "\n",
        "def preprocess_image(image):\n",
        "    return cv2.GaussianBlur(image, (5, 5), 0)\n",
        "\n",
        "def extract_features(image, num_points=24, radius=3):\n",
        "    lbp = feature.local_binary_pattern(image, num_points, radius, method=\"uniform\")\n",
        "    hist, _ = np.histogram(lbp.ravel(), bins=np.arange(0, num_points + 3), range=(0, num_points + 2))\n",
        "    hist = hist.astype(\"float\")\n",
        "    hist /= (hist.sum() + 1e-7)\n",
        "    return hist\n",
        "\n",
        "# Load the MNIST dataset\n",
        "(x_train, y_train), (x_test, y_test) = mnist.load_data()\n",
        "\n",
        "# Preprocess the images and extract features\n",
        "preprocessed_x_train = np.array([preprocess_image(img) for img in x_train])\n",
        "preprocessed_x_test = np.array([preprocess_image(img) for img in x_test])\n",
        "\n",
        "x_train_features = np.array([extract_features(img) for img in preprocessed_x_train])\n",
        "x_test_features = np.array([extract_features(img) for img in preprocessed_x_test])\n",
        "\n",
        "# Train an SVM classifier\n",
        "clf = svm.SVC(kernel='linear', C=10)\n",
        "clf.fit(x_train_features, y_train)\n",
        "\n",
        "# Make predictions on the test dataset\n",
        "y_pred = clf.predict(x_test_features)\n",
        "\n",
        "# Calculate the accuracy\n",
        "accuracy = accuracy_score(y_test, y_pred)\n",
        "print(f\"Accuracy: {accuracy * 100:.2f}%\")\n",
        "\n",
        "# Generate the classification report\n",
        "report = classification_report(y_test, y_pred)\n",
        "print(\"\\nClassification Report:\")\n",
        "print(report)\n",
        "\n",
        "# Generate the confusion matrix\n",
        "matrix = confusion_matrix(y_test, y_pred)\n",
        "print(\"Confusion Matrix:\")\n",
        "print(matrix)\n",
        "\n",
        "# Visualize the first 10 images in the test dataset, their true labels, and predicted labels\n",
        "n_images = 10\n",
        "\n",
        "plt.figure(figsize=(20, 4))\n",
        "for i in range(n_images):\n",
        "    # Display the original image\n",
        "    ax = plt.subplot(1, n_images, i + 1)\n",
        "    plt.imshow(preprocessed_x_test[i], cmap='gray')\n",
        "    ax.get_xaxis().set_visible(False)\n",
        "    ax.get_yaxis().set_visible(False)\n",
        "    plt.title(f\"True: {y_test[i]}, Pred: {y_pred[i]}\", fontsize=12)\n",
        "\n",
        "plt.show()\n",
        "\n",
        "\n"
      ],
      "metadata": {
        "colab": {
          "base_uri": "https://localhost:8080/",
          "height": 706
        },
        "id": "hOTq1z_mvFNb",
        "outputId": "bf6171a3-21e8-484f-ae75-a4c2e16b5500"
      },
      "execution_count": null,
      "outputs": [
        {
          "output_type": "stream",
          "name": "stdout",
          "text": [
            "Accuracy: 72.25%\n",
            "\n",
            "Classification Report:\n",
            "              precision    recall  f1-score   support\n",
            "\n",
            "           0       0.94      0.94      0.94       980\n",
            "           1       0.97      0.97      0.97      1135\n",
            "           2       0.51      0.47      0.49      1032\n",
            "           3       0.60      0.65      0.62      1010\n",
            "           4       0.69      0.85      0.76       982\n",
            "           5       0.56      0.45      0.50       892\n",
            "           6       0.70      0.73      0.71       958\n",
            "           7       0.78      0.74      0.76      1028\n",
            "           8       0.76      0.76      0.76       974\n",
            "           9       0.66      0.63      0.64      1009\n",
            "\n",
            "    accuracy                           0.72     10000\n",
            "   macro avg       0.72      0.72      0.71     10000\n",
            "weighted avg       0.72      0.72      0.72     10000\n",
            "\n",
            "Confusion Matrix:\n",
            "[[ 918    0    5    0    0    2   23    1    3   28]\n",
            " [   0 1105    1    0   10    0    1   18    0    0]\n",
            " [   7    0  481  151  117  144   37   24   55   16]\n",
            " [   0    0  167  653   42   67    2    6   65    8]\n",
            " [   0    4   62   14  835    8    0   47    0   12]\n",
            " [   1    0  126  167   33  403   37   21   44   60]\n",
            " [  26    4   16    2    6   28  696   35   16  129]\n",
            " [   4   18   13    1  139    2   33  759    3   56]\n",
            " [  15    0   50   84   12   20   20    7  743   23]\n",
            " [   9    9   20   14   23   45  146   61   50  632]]\n"
          ]
        },
        {
          "output_type": "display_data",
          "data": {
            "text/plain": [
              "<Figure size 1440x288 with 10 Axes>"
            ],
            "image/png": "[encoded data removed]"
          },
          "metadata": {
            "needs_background": "light"
          }
        }
      ]
    },
    {
      "cell_type": "code",
      "source": [
        "import numpy as np\n",
        "import cv2\n",
        "from skimage import feature\n",
        "from tensorflow.keras.datasets import mnist\n",
        "from sklearn import svm\n",
        "from sklearn.metrics import accuracy_score, classification_report, confusion_matrix\n",
        "import matplotlib.pyplot as plt\n",
        "\n",
        "def preprocess_image(image):\n",
        "    return cv2.GaussianBlur(image, (5, 5), 0)\n",
        "\n",
        "def extract_features(image, num_points=24, radius=3):\n",
        "    lbp = feature.local_binary_pattern(image, num_points, radius, method=\"uniform\")\n",
        "    hist, _ = np.histogram(lbp.ravel(), bins=np.arange(0, num_points + 3), range=(0, num_points + 2))\n",
        "    hist = hist.astype(\"float\")\n",
        "    hist /= (hist.sum() + 1e-7)\n",
        "    return hist\n",
        "\n",
        "# Load the MNIST dataset\n",
        "(x_train, y_train), (x_test, y_test) = mnist.load_data()\n",
        "\n",
        "# Preprocess the images and extract features\n",
        "preprocessed_x_train = np.array([preprocess_image(img) for img in x_train])\n",
        "preprocessed_x_test = np.array([preprocess_image(img) for img in x_test])\n",
        "\n",
        "x_train_features = np.array([extract_features(img) for img in preprocessed_x_train])\n",
        "x_test_features = np.array([extract_features(img) for img in preprocessed_x_test])\n",
        "\n",
        "# Train an SVM classifier\n",
        "clf = svm.SVC(kernel='rbf', C=10)\n",
        "clf.fit(x_train_features, y_train)\n",
        "\n",
        "# Make predictions on the test dataset\n",
        "y_pred = clf.predict(x_test_features)\n",
        "\n",
        "# Calculate the accuracy\n",
        "accuracy = accuracy_score(y_test, y_pred)\n",
        "print(f\"Accuracy: {accuracy * 100:.2f}%\")\n",
        "\n",
        "# Generate the classification report\n",
        "report = classification_report(y_test, y_pred)\n",
        "print(\"\\nClassification Report:\")\n",
        "print(report)\n",
        "\n",
        "# Generate the confusion matrix\n",
        "matrix = confusion_matrix(y_test, y_pred)\n",
        "print(\"Confusion Matrix:\")\n",
        "print(matrix)\n",
        "\n",
        "# Visualize the first 10 images in the test dataset, their true labels, and predicted labels\n",
        "n_images = 10\n",
        "\n",
        "plt.figure(figsize=(20, 4))\n",
        "for i in range(n_images):\n",
        "    # Display the original image\n",
        "    ax = plt.subplot(1, n_images, i + 1)\n",
        "    plt.imshow(preprocessed_x_test[i], cmap='gray')\n",
        "    ax.get_xaxis().set_visible(False)\n",
        "    ax.get_yaxis().set_visible(False)\n",
        "    plt.title(f\"True: {y_test[i]}, Pred: {y_pred[i]}\", fontsize=12)\n",
        "\n",
        "plt.show()\n",
        "\n",
        "\n"
      ],
      "metadata": {
        "colab": {
          "base_uri": "https://localhost:8080/",
          "height": 706
        },
        "id": "pQ9wosk1v1Nm",
        "outputId": "09f4b9ad-fb7f-4da0-de91-8b92c9e87930"
      },
      "execution_count": null,
      "outputs": [
        {
          "output_type": "stream",
          "name": "stdout",
          "text": [
            "Accuracy: 74.28%\n",
            "\n",
            "Classification Report:\n",
            "              precision    recall  f1-score   support\n",
            "\n",
            "           0       0.95      0.96      0.96       980\n",
            "           1       0.97      0.97      0.97      1135\n",
            "           2       0.53      0.50      0.52      1032\n",
            "           3       0.65      0.66      0.66      1010\n",
            "           4       0.71      0.86      0.78       982\n",
            "           5       0.58      0.50      0.54       892\n",
            "           6       0.72      0.75      0.73       958\n",
            "           7       0.79      0.75      0.77      1028\n",
            "           8       0.77      0.78      0.78       974\n",
            "           9       0.69      0.65      0.67      1009\n",
            "\n",
            "    accuracy                           0.74     10000\n",
            "   macro avg       0.74      0.74      0.74     10000\n",
            "weighted avg       0.74      0.74      0.74     10000\n",
            "\n",
            "Confusion Matrix:\n",
            "[[ 941    0    1    0    0    2   15    1    4   16]\n",
            " [   0 1105    1    0   10    0    3   16    0    0]\n",
            " [   1    0  521  116  103  158   37   29   56   11]\n",
            " [   0    0  165  668   28   76    2    7   61    3]\n",
            " [   0    7   64    7  847    7    0   37    1   12]\n",
            " [   1    0  128  153   28  445   34   18   31   54]\n",
            " [  19    3   18    1    5   20  717   32   19  124]\n",
            " [   3   16   12    1  133    0   45  767    4   47]\n",
            " [   9    0   59   72   11   17   17    7  759   23]\n",
            " [  12    8   22    7   23   44  132   55   48  658]]\n"
          ]
        },
        {
          "output_type": "display_data",
          "data": {
            "text/plain": [
              "<Figure size 1440x288 with 10 Axes>"
            ],
            "image/png": "[encoded data removed]"
          },
          "metadata": {
            "needs_background": "light"
          }
        }
      ]
    },
    {
      "cell_type": "code",
      "source": [],
      "metadata": {
        "id": "OIMAqnxxw7Ho"
      },
      "execution_count": null,
      "outputs": []
    },
    {
      "cell_type": "markdown",
      "source": [
        "# HOG"
      ],
      "metadata": {
        "id": "tdu5VAT5ybVY"
      }
    },
    {
      "cell_type": "code",
      "source": [
        "import numpy as np\n",
        "import cv2\n",
        "from skimage import feature\n",
        "from tensorflow.keras.datasets import mnist\n",
        "from sklearn import svm\n",
        "from sklearn.metrics import accuracy_score, classification_report, confusion_matrix\n",
        "import matplotlib.pyplot as plt\n",
        "\n",
        "def preprocess_image(image):\n",
        "    return cv2.GaussianBlur(image, (5, 5), 0)\n",
        "\n",
        "def extract_hog_features(image):\n",
        "    features = hog(image, orientations=9, pixels_per_cell=(8, 8), cells_per_block=(2, 2), block_norm='L2-Hys', feature_vector=True)\n",
        "    return features\n",
        "\n",
        "# Load the MNIST dataset\n",
        "(x_train, y_train), (x_test, y_test) = mnist.load_data()\n",
        "\n",
        "# Preprocess the images and extract features\n",
        "preprocessed_x_train = np.array([preprocess_image(img) for img in x_train])\n",
        "preprocessed_x_test = np.array([preprocess_image(img) for img in x_test])\n",
        "\n",
        "x_train_features = np.array([extract_features(img) for img in preprocessed_x_train])\n",
        "x_test_features = np.array([extract_features(img) for img in preprocessed_x_test])\n",
        "\n",
        "# Train an SVM classifier\n",
        "clf = svm.SVC(kernel='rbf', C=10)\n",
        "clf.fit(x_train_features, y_train)\n",
        "\n",
        "# Make predictions on the test dataset\n",
        "y_pred = clf.predict(x_test_features)\n",
        "\n",
        "# Calculate the accuracy\n",
        "accuracy = accuracy_score(y_test, y_pred)\n",
        "print(f\"Accuracy: {accuracy * 100:.2f}%\")\n",
        "\n",
        "# Generate the classification report\n",
        "report = classification_report(y_test, y_pred)\n",
        "print(\"\\nClassification Report:\")\n",
        "print(report)\n",
        "\n",
        "# Generate the confusion matrix\n",
        "matrix = confusion_matrix(y_test, y_pred)\n",
        "print(\"Confusion Matrix:\")\n",
        "print(matrix)\n",
        "\n",
        "# Visualize the first 10 images in the test dataset, their true labels, and predicted labels\n",
        "n_images = 10\n",
        "\n",
        "plt.figure(figsize=(20, 4))\n",
        "for i in range(n_images):\n",
        "    # Display the original image\n",
        "    ax = plt.subplot(1, n_images, i + 1)\n",
        "    plt.imshow(preprocessed_x_test[i], cmap='gray')\n",
        "    ax.get_xaxis().set_visible(False)\n",
        "    ax.get_yaxis().set_visible(False)\n",
        "    plt.title(f\"True: {y_test[i]}, Pred: {y_pred[i]}\", fontsize=12)\n",
        "\n",
        "plt.show()\n",
        "\n",
        "\n"
      ],
      "metadata": {
        "colab": {
          "base_uri": "https://localhost:8080/",
          "height": 706
        },
        "id": "p7P0waciyeIN",
        "outputId": "c6ad575e-ac53-4124-a0d5-3732a38719f7"
      },
      "execution_count": null,
      "outputs": [
        {
          "output_type": "stream",
          "name": "stdout",
          "text": [
            "Accuracy: 74.28%\n",
            "\n",
            "Classification Report:\n",
            "              precision    recall  f1-score   support\n",
            "\n",
            "           0       0.95      0.96      0.96       980\n",
            "           1       0.97      0.97      0.97      1135\n",
            "           2       0.53      0.50      0.52      1032\n",
            "           3       0.65      0.66      0.66      1010\n",
            "           4       0.71      0.86      0.78       982\n",
            "           5       0.58      0.50      0.54       892\n",
            "           6       0.72      0.75      0.73       958\n",
            "           7       0.79      0.75      0.77      1028\n",
            "           8       0.77      0.78      0.78       974\n",
            "           9       0.69      0.65      0.67      1009\n",
            "\n",
            "    accuracy                           0.74     10000\n",
            "   macro avg       0.74      0.74      0.74     10000\n",
            "weighted avg       0.74      0.74      0.74     10000\n",
            "\n",
            "Confusion Matrix:\n",
            "[[ 941    0    1    0    0    2   15    1    4   16]\n",
            " [   0 1105    1    0   10    0    3   16    0    0]\n",
            " [   1    0  521  116  103  158   37   29   56   11]\n",
            " [   0    0  165  668   28   76    2    7   61    3]\n",
            " [   0    7   64    7  847    7    0   37    1   12]\n",
            " [   1    0  128  153   28  445   34   18   31   54]\n",
            " [  19    3   18    1    5   20  717   32   19  124]\n",
            " [   3   16   12    1  133    0   45  767    4   47]\n",
            " [   9    0   59   72   11   17   17    7  759   23]\n",
            " [  12    8   22    7   23   44  132   55   48  658]]\n"
          ]
        },
        {
          "output_type": "display_data",
          "data": {
            "text/plain": [
              "<Figure size 1440x288 with 10 Axes>"
            ],
            "image/png": "[encoded data removed]"
          },
          "metadata": {
            "needs_background": "light"
          }
        }
      ]
    },
    {
      "cell_type": "markdown",
      "source": [
        "## kernel = linear"
      ],
      "metadata": {
        "id": "sA-ykV741EGu"
      }
    },
    {
      "cell_type": "code",
      "source": [
        "import numpy as np\n",
        "import cv2\n",
        "from skimage import feature\n",
        "from tensorflow.keras.datasets import mnist\n",
        "from sklearn import svm\n",
        "from sklearn.metrics import accuracy_score, classification_report, confusion_matrix\n",
        "import matplotlib.pyplot as plt\n",
        "\n",
        "def preprocess_image(image):\n",
        "    return cv2.GaussianBlur(image, (5, 5), 0)\n",
        "\n",
        "def extract_hog_features(image):\n",
        "    features = hog(image, orientations=9, pixels_per_cell=(8, 8), cells_per_block=(2, 2), block_norm='L2-Hys', feature_vector=True)\n",
        "    return features\n",
        "\n",
        "# Load the MNIST dataset\n",
        "(x_train, y_train), (x_test, y_test) = mnist.load_data()\n",
        "\n",
        "# Preprocess the images and extract features\n",
        "preprocessed_x_train = np.array([preprocess_image(img) for img in x_train])\n",
        "preprocessed_x_test = np.array([preprocess_image(img) for img in x_test])\n",
        "\n",
        "x_train_features = np.array([extract_features(img) for img in preprocessed_x_train])\n",
        "x_test_features = np.array([extract_features(img) for img in preprocessed_x_test])\n",
        "\n",
        "# Train an SVM classifier\n",
        "clf = svm.SVC(kernel='linear', C=10)\n",
        "clf.fit(x_train_features, y_train)\n",
        "\n",
        "# Make predictions on the test dataset\n",
        "y_pred = clf.predict(x_test_features)\n",
        "\n",
        "# Calculate the accuracy\n",
        "accuracy = accuracy_score(y_test, y_pred)\n",
        "print(f\"Accuracy: {accuracy * 100:.2f}%\")\n",
        "\n",
        "# Generate the classification report\n",
        "report = classification_report(y_test, y_pred)\n",
        "print(\"\\nClassification Report:\")\n",
        "print(report)\n",
        "\n",
        "# Generate the confusion matrix\n",
        "matrix = confusion_matrix(y_test, y_pred)\n",
        "print(\"Confusion Matrix:\")\n",
        "print(matrix)\n",
        "\n",
        "# Visualize the first 10 images in the test dataset, their true labels, and predicted labels\n",
        "n_images = 10\n",
        "\n",
        "plt.figure(figsize=(20, 4))\n",
        "for i in range(n_images):\n",
        "    # Display the original image\n",
        "    ax = plt.subplot(1, n_images, i + 1)\n",
        "    plt.imshow(preprocessed_x_test[i], cmap='gray')\n",
        "    ax.get_xaxis().set_visible(False)\n",
        "    ax.get_yaxis().set_visible(False)\n",
        "    plt.title(f\"True: {y_test[i]}, Pred: {y_pred[i]}\", fontsize=12)\n",
        "\n",
        "plt.show()\n",
        "\n",
        "\n"
      ],
      "metadata": {
        "colab": {
          "base_uri": "https://localhost:8080/",
          "height": 706
        },
        "id": "PmGRJW-Fysei",
        "outputId": "db8a5348-5dff-4eff-93a5-91e092938af2"
      },
      "execution_count": null,
      "outputs": [
        {
          "output_type": "stream",
          "name": "stdout",
          "text": [
            "Accuracy: 72.25%\n",
            "\n",
            "Classification Report:\n",
            "              precision    recall  f1-score   support\n",
            "\n",
            "           0       0.94      0.94      0.94       980\n",
            "           1       0.97      0.97      0.97      1135\n",
            "           2       0.51      0.47      0.49      1032\n",
            "           3       0.60      0.65      0.62      1010\n",
            "           4       0.69      0.85      0.76       982\n",
            "           5       0.56      0.45      0.50       892\n",
            "           6       0.70      0.73      0.71       958\n",
            "           7       0.78      0.74      0.76      1028\n",
            "           8       0.76      0.76      0.76       974\n",
            "           9       0.66      0.63      0.64      1009\n",
            "\n",
            "    accuracy                           0.72     10000\n",
            "   macro avg       0.72      0.72      0.71     10000\n",
            "weighted avg       0.72      0.72      0.72     10000\n",
            "\n",
            "Confusion Matrix:\n",
            "[[ 918    0    5    0    0    2   23    1    3   28]\n",
            " [   0 1105    1    0   10    0    1   18    0    0]\n",
            " [   7    0  481  151  117  144   37   24   55   16]\n",
            " [   0    0  167  653   42   67    2    6   65    8]\n",
            " [   0    4   62   14  835    8    0   47    0   12]\n",
            " [   1    0  126  167   33  403   37   21   44   60]\n",
            " [  26    4   16    2    6   28  696   35   16  129]\n",
            " [   4   18   13    1  139    2   33  759    3   56]\n",
            " [  15    0   50   84   12   20   20    7  743   23]\n",
            " [   9    9   20   14   23   45  146   61   50  632]]\n"
          ]
        },
        {
          "output_type": "display_data",
          "data": {
            "text/plain": [
              "<Figure size 1440x288 with 10 Axes>"
            ],
            "image/png": "[encoded data removed]"
          },
          "metadata": {
            "needs_background": "light"
          }
        }
      ]
    },
    {
      "cell_type": "code",
      "source": [],
      "metadata": {
        "id": "q3K-rPU01SL0"
      },
      "execution_count": null,
      "outputs": []
    },
    {
      "cell_type": "markdown",
      "source": [
        "## PolY"
      ],
      "metadata": {
        "id": "CW04z-uw2fQH"
      }
    },
    {
      "cell_type": "code",
      "source": [
        "import numpy as np\n",
        "import cv2\n",
        "from skimage import feature\n",
        "from tensorflow.keras.datasets import mnist\n",
        "from sklearn import svm\n",
        "from sklearn.metrics import accuracy_score, classification_report, confusion_matrix\n",
        "import matplotlib.pyplot as plt\n",
        "\n",
        "def preprocess_image(image):\n",
        "    return cv2.GaussianBlur(image, (5, 5), 0)\n",
        "\n",
        "def extract_hog_features(image):\n",
        "    features = hog(image, orientations=9, pixels_per_cell=(8, 8), cells_per_block=(2, 2), block_norm='L2-Hys', feature_vector=True)\n",
        "    return features\n",
        "\n",
        "# Load the MNIST dataset\n",
        "(x_train, y_train), (x_test, y_test) = mnist.load_data()\n",
        "\n",
        "# Preprocess the images and extract features\n",
        "preprocessed_x_train = np.array([preprocess_image(img) for img in x_train])\n",
        "preprocessed_x_test = np.array([preprocess_image(img) for img in x_test])\n",
        "\n",
        "x_train_features = np.array([extract_features(img) for img in preprocessed_x_train])\n",
        "x_test_features = np.array([extract_features(img) for img in preprocessed_x_test])\n",
        "\n",
        "# Train an SVM classifier\n",
        "clf = svm.SVC(kernel='poly', C=10)\n",
        "clf.fit(x_train_features, y_train)\n",
        "\n",
        "# Make predictions on the test dataset\n",
        "y_pred = clf.predict(x_test_features)\n",
        "\n",
        "# Calculate the accuracy\n",
        "accuracy = accuracy_score(y_test, y_pred)\n",
        "print(f\"Accuracy: {accuracy * 100:.2f}%\")\n",
        "\n",
        "# Generate the classification report\n",
        "report = classification_report(y_test, y_pred)\n",
        "print(\"\\nClassification Report:\")\n",
        "print(report)\n",
        "\n",
        "# Generate the confusion matrix\n",
        "matrix = confusion_matrix(y_test, y_pred)\n",
        "print(\"Confusion Matrix:\")\n",
        "print(matrix)\n",
        "\n",
        "# Visualize the first 10 images in the test dataset, their true labels, and predicted labels\n",
        "n_images = 10\n",
        "\n",
        "plt.figure(figsize=(20, 4))\n",
        "for i in range(n_images):\n",
        "    # Display the original image\n",
        "    ax = plt.subplot(1, n_images, i + 1)\n",
        "    plt.imshow(preprocessed_x_test[i], cmap='gray')\n",
        "    ax.get_xaxis().set_visible(False)\n",
        "    ax.get_yaxis().set_visible(False)\n",
        "    plt.title(f\"True: {y_test[i]}, Pred: {y_pred[i]}\", fontsize=12)\n",
        "\n",
        "plt.show()\n",
        "\n",
        "\n"
      ],
      "metadata": {
        "colab": {
          "base_uri": "https://localhost:8080/",
          "height": 706
        },
        "id": "NiRYPWq52eNP",
        "outputId": "04a12edd-58e5-4bce-c8a5-d933433f3ca6"
      },
      "execution_count": null,
      "outputs": [
        {
          "output_type": "stream",
          "name": "stdout",
          "text": [
            "Accuracy: 74.33%\n",
            "\n",
            "Classification Report:\n",
            "              precision    recall  f1-score   support\n",
            "\n",
            "           0       0.95      0.96      0.95       980\n",
            "           1       0.97      0.98      0.97      1135\n",
            "           2       0.52      0.51      0.51      1032\n",
            "           3       0.65      0.67      0.66      1010\n",
            "           4       0.72      0.85      0.78       982\n",
            "           5       0.58      0.50      0.54       892\n",
            "           6       0.71      0.76      0.74       958\n",
            "           7       0.79      0.75      0.77      1028\n",
            "           8       0.77      0.78      0.78       974\n",
            "           9       0.71      0.65      0.68      1009\n",
            "\n",
            "    accuracy                           0.74     10000\n",
            "   macro avg       0.74      0.74      0.74     10000\n",
            "weighted avg       0.74      0.74      0.74     10000\n",
            "\n",
            "Confusion Matrix:\n",
            "[[ 943    0    3    0    0    3   14    0    4   13]\n",
            " [   0 1108    1    0    9    0    4   13    0    0]\n",
            " [   2    1  524  127   99  152   35   29   53   10]\n",
            " [   0    0  159  673   26   79    2    8   60    3]\n",
            " [   0    7   70    6  833    7    1   45    1   12]\n",
            " [   1    0  136  148   29  448   34   19   28   49]\n",
            " [  18    2   18    2    5   22  725   34   20  112]\n",
            " [   5   13   12    1  133    1   46  768    4   45]\n",
            " [  14    0   65   66    8   20   17    7  758   19]\n",
            " [  12    7   22    8   23   45  136   51   52  653]]\n"
          ]
        },
        {
          "output_type": "display_data",
          "data": {
            "text/plain": [
              "<Figure size 1440x288 with 10 Axes>"
            ],
            "image/png": "[encoded data removed]"
          },
          "metadata": {
            "needs_background": "light"
          }
        }
      ]
    },
    {
      "cell_type": "code",
      "source": [
        "import numpy as np\n",
        "import cv2\n",
        "from skimage import feature\n",
        "from tensorflow.keras.datasets import mnist\n",
        "from sklearn import svm\n",
        "from sklearn.metrics import accuracy_score, classification_report, confusion_matrix\n",
        "import matplotlib.pyplot as plt\n",
        "\n",
        "def preprocess_image(image):\n",
        "    return cv2.GaussianBlur(image, (5, 5), 0)\n",
        "\n",
        "def extract_hog_features(image):\n",
        "    features = hog(image, orientations=9, pixels_per_cell=(8, 8), cells_per_block=(2, 2), block_norm='L2-Hys', feature_vector=True)\n",
        "    return features\n",
        "\n",
        "# Load the MNIST dataset\n",
        "(x_train, y_train), (x_test, y_test) = mnist.load_data()\n",
        "\n",
        "# Preprocess the images and extract features\n",
        "preprocessed_x_train = np.array([preprocess_image(img) for img in x_train])\n",
        "preprocessed_x_test = np.array([preprocess_image(img) for img in x_test])\n",
        "\n",
        "x_train_features = np.array([extract_features(img) for img in preprocessed_x_train])\n",
        "x_test_features = np.array([extract_features(img) for img in preprocessed_x_test])\n",
        "\n",
        "# Train an SVM classifier\n",
        "clf = svm.SVC(kernel='poly', C=100)\n",
        "clf.fit(x_train_features, y_train)\n",
        "\n",
        "# Make predictions on the test dataset\n",
        "y_pred = clf.predict(x_test_features)\n",
        "\n",
        "# Calculate the accuracy\n",
        "accuracy = accuracy_score(y_test, y_pred)\n",
        "print(f\"Accuracy: {accuracy * 100:.2f}%\")\n",
        "\n",
        "# Generate the classification report\n",
        "report = classification_report(y_test, y_pred)\n",
        "print(\"\\nClassification Report:\")\n",
        "print(report)\n",
        "\n",
        "# Generate the confusion matrix\n",
        "matrix = confusion_matrix(y_test, y_pred)\n",
        "print(\"Confusion Matrix:\")\n",
        "print(matrix)\n",
        "\n",
        "# Visualize the first 10 images in the test dataset, their true labels, and predicted labels\n",
        "n_images = 10\n",
        "\n",
        "plt.figure(figsize=(20, 4))\n",
        "for i in range(n_images):\n",
        "    # Display the original image\n",
        "    ax = plt.subplot(1, n_images, i + 1)\n",
        "    plt.imshow(preprocessed_x_test[i], cmap='gray')\n",
        "    ax.get_xaxis().set_visible(False)\n",
        "    ax.get_yaxis().set_visible(False)\n",
        "    plt.title(f\"True: {y_test[i]}, Pred: {y_pred[i]}\", fontsize=12)\n",
        "\n",
        "plt.show()\n",
        "\n",
        "\n"
      ],
      "metadata": {
        "colab": {
          "base_uri": "https://localhost:8080/",
          "height": 706
        },
        "id": "yoUOlf8a2j6h",
        "outputId": "53d19d38-9ebe-4b3c-b9fc-abe9c90997a5"
      },
      "execution_count": null,
      "outputs": [
        {
          "output_type": "stream",
          "name": "stdout",
          "text": [
            "Accuracy: 75.67%\n",
            "\n",
            "Classification Report:\n",
            "              precision    recall  f1-score   support\n",
            "\n",
            "           0       0.96      0.97      0.96       980\n",
            "           1       0.97      0.98      0.97      1135\n",
            "           2       0.54      0.54      0.54      1032\n",
            "           3       0.67      0.68      0.68      1010\n",
            "           4       0.72      0.86      0.78       982\n",
            "           5       0.59      0.54      0.56       892\n",
            "           6       0.73      0.76      0.75       958\n",
            "           7       0.83      0.75      0.79      1028\n",
            "           8       0.80      0.79      0.80       974\n",
            "           9       0.71      0.66      0.68      1009\n",
            "\n",
            "    accuracy                           0.76     10000\n",
            "   macro avg       0.75      0.75      0.75     10000\n",
            "weighted avg       0.76      0.76      0.76     10000\n",
            "\n",
            "Confusion Matrix:\n",
            "[[ 950    0    3    0    0    2    7    0    3   15]\n",
            " [   0 1112    1    0    9    0    4    9    0    0]\n",
            " [   2    2  553  112   95  148   32   21   53   14]\n",
            " [   0    0  148  684   27   89    2    5   52    3]\n",
            " [   0    9   63    7  846    7    1   36    1   12]\n",
            " [   1    0  132  139   21  482   34   11   23   49]\n",
            " [  15    1   21    3    5   22  732   30   16  113]\n",
            " [   2   14   13    0  138    1   42  767    3   48]\n",
            " [   8    1   68   60   12   15   13    3  773   21]\n",
            " [  11    8   19    9   23   52  136   40   43  668]]\n"
          ]
        },
        {
          "output_type": "display_data",
          "data": {
            "text/plain": [
              "<Figure size 1440x288 with 10 Axes>"
            ],
            "image/png": "[encoded data removed]"
          },
          "metadata": {
            "needs_background": "light"
          }
        }
      ]
    },
    {
      "cell_type": "code",
      "source": [],
      "metadata": {
        "id": "TU5Ks6Dt3Zqv"
      },
      "execution_count": null,
      "outputs": []
    },
    {
      "cell_type": "markdown",
      "source": [
        "## **SIFT**"
      ],
      "metadata": {
        "id": "YWTo1hcs4LXu"
      }
    },
    {
      "cell_type": "code",
      "source": [
        "import numpy as np\n",
        "import cv2\n",
        "from skimage import feature\n",
        "from tensorflow.keras.datasets import mnist\n",
        "from sklearn import svm\n",
        "from sklearn.metrics import accuracy_score, classification_report, confusion_matrix\n",
        "import matplotlib.pyplot as plt\n",
        "\n",
        "def preprocess_image(image):\n",
        "    return cv2.GaussianBlur(image, (5, 5), 0)\n",
        "\n",
        "def extract_sift_features(image):\n",
        "    sift = cv2.SIFT_create()\n",
        "    keypoints, descriptors = sift.detectAndCompute(image, None)\n",
        "    if descriptors is None:\n",
        "        descriptors = np.zeros((1, sift.descriptorSize()))\n",
        "    return descriptors.ravel()\n",
        "\n",
        "# Load the MNIST dataset\n",
        "(x_train, y_train), (x_test, y_test) = mnist.load_data()\n",
        "\n",
        "# Preprocess the images and extract features\n",
        "preprocessed_x_train = np.array([preprocess_image(img) for img in x_train])\n",
        "preprocessed_x_test = np.array([preprocess_image(img) for img in x_test])\n",
        "\n",
        "x_train_features = np.array([extract_features(img) for img in preprocessed_x_train])\n",
        "x_test_features = np.array([extract_features(img) for img in preprocessed_x_test])\n",
        "\n",
        "# Train an SVM classifier\n",
        "clf = svm.SVC(kernel='poly', C=100)\n",
        "clf.fit(x_train_features, y_train)\n",
        "\n",
        "# Make predictions on the test dataset\n",
        "y_pred = clf.predict(x_test_features)\n",
        "\n",
        "# Calculate the accuracy\n",
        "accuracy = accuracy_score(y_test, y_pred)\n",
        "print(f\"Accuracy: {accuracy * 100:.2f}%\")\n",
        "\n",
        "# Generate the classification report\n",
        "report = classification_report(y_test, y_pred)\n",
        "print(\"\\nClassification Report:\")\n",
        "print(report)\n",
        "\n",
        "# Generate the confusion matrix\n",
        "matrix = confusion_matrix(y_test, y_pred)\n",
        "print(\"Confusion Matrix:\")\n",
        "print(matrix)\n",
        "\n",
        "# Visualize the first 10 images in the test dataset, their true labels, and predicted labels\n",
        "n_images = 10\n",
        "\n",
        "plt.figure(figsize=(20, 4))\n",
        "for i in range(n_images):\n",
        "    # Display the original image\n",
        "    ax = plt.subplot(1, n_images, i + 1)\n",
        "    plt.imshow(preprocessed_x_test[i], cmap='gray')\n",
        "    ax.get_xaxis().set_visible(False)\n",
        "    ax.get_yaxis().set_visible(False)\n",
        "    plt.title(f\"True: {y_test[i]}, Pred: {y_pred[i]}\", fontsize=12)\n",
        "\n",
        "plt.show()\n",
        "\n",
        "\n"
      ],
      "metadata": {
        "colab": {
          "base_uri": "https://localhost:8080/",
          "height": 706
        },
        "id": "dB0cryw-4MGz",
        "outputId": "b61f312b-2df9-435e-a0ef-78c66475394b"
      },
      "execution_count": null,
      "outputs": [
        {
          "output_type": "stream",
          "name": "stdout",
          "text": [
            "Accuracy: 75.67%\n",
            "\n",
            "Classification Report:\n",
            "              precision    recall  f1-score   support\n",
            "\n",
            "           0       0.96      0.97      0.96       980\n",
            "           1       0.97      0.98      0.97      1135\n",
            "           2       0.54      0.54      0.54      1032\n",
            "           3       0.67      0.68      0.68      1010\n",
            "           4       0.72      0.86      0.78       982\n",
            "           5       0.59      0.54      0.56       892\n",
            "           6       0.73      0.76      0.75       958\n",
            "           7       0.83      0.75      0.79      1028\n",
            "           8       0.80      0.79      0.80       974\n",
            "           9       0.71      0.66      0.68      1009\n",
            "\n",
            "    accuracy                           0.76     10000\n",
            "   macro avg       0.75      0.75      0.75     10000\n",
            "weighted avg       0.76      0.76      0.76     10000\n",
            "\n",
            "Confusion Matrix:\n",
            "[[ 950    0    3    0    0    2    7    0    3   15]\n",
            " [   0 1112    1    0    9    0    4    9    0    0]\n",
            " [   2    2  553  112   95  148   32   21   53   14]\n",
            " [   0    0  148  684   27   89    2    5   52    3]\n",
            " [   0    9   63    7  846    7    1   36    1   12]\n",
            " [   1    0  132  139   21  482   34   11   23   49]\n",
            " [  15    1   21    3    5   22  732   30   16  113]\n",
            " [   2   14   13    0  138    1   42  767    3   48]\n",
            " [   8    1   68   60   12   15   13    3  773   21]\n",
            " [  11    8   19    9   23   52  136   40   43  668]]\n"
          ]
        },
        {
          "output_type": "display_data",
          "data": {
            "text/plain": [
              "<Figure size 1440x288 with 10 Axes>"
            ],
            "image/png": "[encoded data removed]"
          },
          "metadata": {
            "needs_background": "light"
          }
        }
      ]
    },
    {
      "cell_type": "code",
      "source": [
        "import numpy as np\n",
        "import cv2\n",
        "from skimage import feature\n",
        "from tensorflow.keras.datasets import mnist\n",
        "from sklearn import svm\n",
        "from sklearn.metrics import accuracy_score, classification_report, confusion_matrix\n",
        "import matplotlib.pyplot as plt\n",
        "\n",
        "def preprocess_image(image):\n",
        "    return cv2.GaussianBlur(image, (5, 5), 0)\n",
        "\n",
        "def extract_sift_features(image):\n",
        "    sift = cv2.SIFT_create()\n",
        "    keypoints, descriptors = sift.detectAndCompute(image, None)\n",
        "    if descriptors is None:\n",
        "        descriptors = np.zeros((1, sift.descriptorSize()))\n",
        "    return descriptors.ravel()\n",
        "\n",
        "# Load the MNIST dataset\n",
        "(x_train, y_train), (x_test, y_test) = mnist.load_data()\n",
        "\n",
        "# Preprocess the images and extract features\n",
        "preprocessed_x_train = np.array([preprocess_image(img) for img in x_train])\n",
        "preprocessed_x_test = np.array([preprocess_image(img) for img in x_test])\n",
        "\n",
        "x_train_features = np.array([extract_features(img) for img in preprocessed_x_train])\n",
        "x_test_features = np.array([extract_features(img) for img in preprocessed_x_test])\n",
        "\n",
        "# Train an SVM classifier\n",
        "clf = svm.SVC(kernel='linear', C=10)\n",
        "clf.fit(x_train_features, y_train)\n",
        "\n",
        "# Make predictions on the test dataset\n",
        "y_pred = clf.predict(x_test_features)\n",
        "\n",
        "# Calculate the accuracy\n",
        "accuracy = accuracy_score(y_test, y_pred)\n",
        "print(f\"Accuracy: {accuracy * 100:.2f}%\")\n",
        "\n",
        "# Generate the classification report\n",
        "report = classification_report(y_test, y_pred)\n",
        "print(\"\\nClassification Report:\")\n",
        "print(report)\n",
        "\n",
        "# Generate the confusion matrix\n",
        "matrix = confusion_matrix(y_test, y_pred)\n",
        "print(\"Confusion Matrix:\")\n",
        "print(matrix)\n",
        "\n",
        "# Visualize the first 10 images in the test dataset, their true labels, and predicted labels\n",
        "n_images = 10\n",
        "\n",
        "plt.figure(figsize=(20, 4))\n",
        "for i in range(n_images):\n",
        "    # Display the original image\n",
        "    ax = plt.subplot(1, n_images, i + 1)\n",
        "    plt.imshow(preprocessed_x_test[i], cmap='gray')\n",
        "    ax.get_xaxis().set_visible(False)\n",
        "    ax.get_yaxis().set_visible(False)\n",
        "    plt.title(f\"True: {y_test[i]}, Pred: {y_pred[i]}\", fontsize=12)\n",
        "\n",
        "plt.show()\n",
        "\n",
        "\n"
      ],
      "metadata": {
        "colab": {
          "base_uri": "https://localhost:8080/",
          "height": 706
        },
        "id": "6IQJZgQv4UJM",
        "outputId": "9459ad59-dd10-43ec-aebb-2fd088c25f65"
      },
      "execution_count": null,
      "outputs": [
        {
          "output_type": "stream",
          "name": "stdout",
          "text": [
            "Accuracy: 72.25%\n",
            "\n",
            "Classification Report:\n",
            "              precision    recall  f1-score   support\n",
            "\n",
            "           0       0.94      0.94      0.94       980\n",
            "           1       0.97      0.97      0.97      1135\n",
            "           2       0.51      0.47      0.49      1032\n",
            "           3       0.60      0.65      0.62      1010\n",
            "           4       0.69      0.85      0.76       982\n",
            "           5       0.56      0.45      0.50       892\n",
            "           6       0.70      0.73      0.71       958\n",
            "           7       0.78      0.74      0.76      1028\n",
            "           8       0.76      0.76      0.76       974\n",
            "           9       0.66      0.63      0.64      1009\n",
            "\n",
            "    accuracy                           0.72     10000\n",
            "   macro avg       0.72      0.72      0.71     10000\n",
            "weighted avg       0.72      0.72      0.72     10000\n",
            "\n",
            "Confusion Matrix:\n",
            "[[ 918    0    5    0    0    2   23    1    3   28]\n",
            " [   0 1105    1    0   10    0    1   18    0    0]\n",
            " [   7    0  481  151  117  144   37   24   55   16]\n",
            " [   0    0  167  653   42   67    2    6   65    8]\n",
            " [   0    4   62   14  835    8    0   47    0   12]\n",
            " [   1    0  126  167   33  403   37   21   44   60]\n",
            " [  26    4   16    2    6   28  696   35   16  129]\n",
            " [   4   18   13    1  139    2   33  759    3   56]\n",
            " [  15    0   50   84   12   20   20    7  743   23]\n",
            " [   9    9   20   14   23   45  146   61   50  632]]\n"
          ]
        },
        {
          "output_type": "display_data",
          "data": {
            "text/plain": [
              "<Figure size 1440x288 with 10 Axes>"
            ],
            "image/png": "[encoded data removed]"
          },
          "metadata": {
            "needs_background": "light"
          }
        }
      ]
    },
    {
      "cell_type": "code",
      "source": [],
      "metadata": {
        "id": "cMsUJJHw6LeO"
      },
      "execution_count": null,
      "outputs": []
    },
    {
      "cell_type": "markdown",
      "source": [
        "RBF"
      ],
      "metadata": {
        "id": "BdTHBTRj9l6_"
      }
    },
    {
      "cell_type": "code",
      "source": [
        "import numpy as np\n",
        "import cv2\n",
        "from skimage import feature\n",
        "from tensorflow.keras.datasets import mnist\n",
        "from sklearn import svm\n",
        "from sklearn.metrics import accuracy_score, classification_report, confusion_matrix\n",
        "import matplotlib.pyplot as plt\n",
        "\n",
        "def preprocess_image(image):\n",
        "    return cv2.GaussianBlur(image, (5, 5), 0)\n",
        "\n",
        "def extract_sift_features(image):\n",
        "    sift = cv2.SIFT_create()\n",
        "    keypoints, descriptors = sift.detectAndCompute(image, None)\n",
        "    if descriptors is None:\n",
        "        descriptors = np.zeros((1, sift.descriptorSize()))\n",
        "    return descriptors.ravel()\n",
        "\n",
        "# Load the MNIST dataset\n",
        "(x_train, y_train), (x_test, y_test) = mnist.load_data()\n",
        "\n",
        "# Preprocess the images and extract features\n",
        "preprocessed_x_train = np.array([preprocess_image(img) for img in x_train])\n",
        "preprocessed_x_test = np.array([preprocess_image(img) for img in x_test])\n",
        "\n",
        "x_train_features = np.array([extract_features(img) for img in preprocessed_x_train])\n",
        "x_test_features = np.array([extract_features(img) for img in preprocessed_x_test])\n",
        "\n",
        "# Train an SVM classifier\n",
        "clf = svm.SVC(kernel='rbf', C=10)\n",
        "clf.fit(x_train_features, y_train)\n",
        "\n",
        "# Make predictions on the test dataset\n",
        "y_pred = clf.predict(x_test_features)\n",
        "\n",
        "# Calculate the accuracy\n",
        "accuracy = accuracy_score(y_test, y_pred)\n",
        "print(f\"Accuracy: {accuracy * 100:.2f}%\")\n",
        "\n",
        "# Generate the classification report\n",
        "report = classification_report(y_test, y_pred)\n",
        "print(\"\\nClassification Report:\")\n",
        "print(report)\n",
        "\n",
        "# Generate the confusion matrix\n",
        "matrix = confusion_matrix(y_test, y_pred)\n",
        "print(\"Confusion Matrix:\")\n",
        "print(matrix)\n",
        "\n",
        "# Visualize the first 10 images in the test dataset, their true labels, and predicted labels\n",
        "n_images = 10\n",
        "\n",
        "plt.figure(figsize=(20, 4))\n",
        "for i in range(n_images):\n",
        "    # Display the original image\n",
        "    ax = plt.subplot(1, n_images, i + 1)\n",
        "    plt.imshow(preprocessed_x_test[i], cmap='gray')\n",
        "    ax.get_xaxis().set_visible(False)\n",
        "    ax.get_yaxis().set_visible(False)\n",
        "    plt.title(f\"True: {y_test[i]}, Pred: {y_pred[i]}\", fontsize=12)\n",
        "\n",
        "plt.show()\n",
        "\n",
        "\n"
      ],
      "metadata": {
        "colab": {
          "base_uri": "https://localhost:8080/",
          "height": 706
        },
        "id": "nLkqyztg9mgw",
        "outputId": "000e95e2-9ab2-4eb2-e9e2-72489f51fc65"
      },
      "execution_count": null,
      "outputs": [
        {
          "output_type": "stream",
          "name": "stdout",
          "text": [
            "Accuracy: 74.28%\n",
            "\n",
            "Classification Report:\n",
            "              precision    recall  f1-score   support\n",
            "\n",
            "           0       0.95      0.96      0.96       980\n",
            "           1       0.97      0.97      0.97      1135\n",
            "           2       0.53      0.50      0.52      1032\n",
            "           3       0.65      0.66      0.66      1010\n",
            "           4       0.71      0.86      0.78       982\n",
            "           5       0.58      0.50      0.54       892\n",
            "           6       0.72      0.75      0.73       958\n",
            "           7       0.79      0.75      0.77      1028\n",
            "           8       0.77      0.78      0.78       974\n",
            "           9       0.69      0.65      0.67      1009\n",
            "\n",
            "    accuracy                           0.74     10000\n",
            "   macro avg       0.74      0.74      0.74     10000\n",
            "weighted avg       0.74      0.74      0.74     10000\n",
            "\n",
            "Confusion Matrix:\n",
            "[[ 941    0    1    0    0    2   15    1    4   16]\n",
            " [   0 1105    1    0   10    0    3   16    0    0]\n",
            " [   1    0  521  116  103  158   37   29   56   11]\n",
            " [   0    0  165  668   28   76    2    7   61    3]\n",
            " [   0    7   64    7  847    7    0   37    1   12]\n",
            " [   1    0  128  153   28  445   34   18   31   54]\n",
            " [  19    3   18    1    5   20  717   32   19  124]\n",
            " [   3   16   12    1  133    0   45  767    4   47]\n",
            " [   9    0   59   72   11   17   17    7  759   23]\n",
            " [  12    8   22    7   23   44  132   55   48  658]]\n"
          ]
        },
        {
          "output_type": "display_data",
          "data": {
            "text/plain": [
              "<Figure size 1440x288 with 10 Axes>"
            ],
            "image/png": "[encoded data removed]"
          },
          "metadata": {
            "needs_background": "light"
          }
        }
      ]
    },
    {
      "cell_type": "code",
      "source": [
        "import numpy as np\n",
        "import cv2\n",
        "from skimage import feature\n",
        "from tensorflow.keras.datasets import mnist\n",
        "from sklearn import svm\n",
        "from sklearn.metrics import accuracy_score, classification_report, confusion_matrix\n",
        "import matplotlib.pyplot as plt\n",
        "\n",
        "def preprocess_image(image):\n",
        "    return cv2.GaussianBlur(image, (5, 5), 0)\n",
        "\n",
        "def extract_sift_features(image):\n",
        "    sift = cv2.SIFT_create()\n",
        "    keypoints, descriptors = sift.detectAndCompute(image, None)\n",
        "    if descriptors is None:\n",
        "        descriptors = np.zeros((1, sift.descriptorSize()))\n",
        "    return descriptors.ravel()\n",
        "\n",
        "# Load the MNIST dataset\n",
        "(x_train, y_train), (x_test, y_test) = mnist.load_data()\n",
        "\n",
        "# Preprocess the images and extract features\n",
        "preprocessed_x_train = np.array([preprocess_image(img) for img in x_train])\n",
        "preprocessed_x_test = np.array([preprocess_image(img) for img in x_test])\n",
        "\n",
        "x_train_features = np.array([extract_features(img) for img in preprocessed_x_train])\n",
        "x_test_features = np.array([extract_features(img) for img in preprocessed_x_test])\n",
        "\n",
        "# Train an SVM classifier\n",
        "clf = svm.SVC(kernel='rbf', C=10, gamma=1)\n",
        "clf.fit(x_train_features, y_train)\n",
        "\n",
        "# Make predictions on the test dataset\n",
        "y_pred = clf.predict(x_test_features)\n",
        "\n",
        "# Calculate the accuracy\n",
        "accuracy = accuracy_score(y_test, y_pred)\n",
        "print(f\"Accuracy: {accuracy * 100:.2f}%\")\n",
        "\n",
        "# Generate the classification report\n",
        "report = classification_report(y_test, y_pred)\n",
        "print(\"\\nClassification Report:\")\n",
        "print(report)\n",
        "\n",
        "# Generate the confusion matrix\n",
        "matrix = confusion_matrix(y_test, y_pred)\n",
        "print(\"Confusion Matrix:\")\n",
        "print(matrix)\n",
        "\n",
        "# Visualize the first 10 images in the test dataset, their true labels, and predicted labels\n",
        "n_images = 10\n",
        "\n",
        "plt.figure(figsize=(20, 4))\n",
        "for i in range(n_images):\n",
        "    # Display the original image\n",
        "    ax = plt.subplot(1, n_images, i + 1)\n",
        "    plt.imshow(preprocessed_x_test[i], cmap='gray')\n",
        "    ax.get_xaxis().set_visible(False)\n",
        "    ax.get_yaxis().set_visible(False)\n",
        "    plt.title(f\"True: {y_test[i]}, Pred: {y_pred[i]}\", fontsize=12)\n",
        "\n",
        "plt.show()\n",
        "\n",
        "\n"
      ],
      "metadata": {
        "colab": {
          "base_uri": "https://localhost:8080/",
          "height": 706
        },
        "id": "GzpsbkJN9rxd",
        "outputId": "73b47f0d-cc36-4522-a142-57e9f61fed69"
      },
      "execution_count": null,
      "outputs": [
        {
          "output_type": "stream",
          "name": "stdout",
          "text": [
            "Accuracy: 73.01%\n",
            "\n",
            "Classification Report:\n",
            "              precision    recall  f1-score   support\n",
            "\n",
            "           0       0.95      0.95      0.95       980\n",
            "           1       0.97      0.97      0.97      1135\n",
            "           2       0.52      0.48      0.50      1032\n",
            "           3       0.62      0.65      0.64      1010\n",
            "           4       0.70      0.85      0.77       982\n",
            "           5       0.57      0.47      0.51       892\n",
            "           6       0.70      0.73      0.72       958\n",
            "           7       0.78      0.74      0.76      1028\n",
            "           8       0.76      0.77      0.76       974\n",
            "           9       0.67      0.64      0.66      1009\n",
            "\n",
            "    accuracy                           0.73     10000\n",
            "   macro avg       0.72      0.73      0.72     10000\n",
            "weighted avg       0.73      0.73      0.73     10000\n",
            "\n",
            "Confusion Matrix:\n",
            "[[ 927    0    3    0    0    2   17    1    5   25]\n",
            " [   0 1103    1    0   10    0    3   18    0    0]\n",
            " [   4    0  500  137  108  148   38   28   57   12]\n",
            " [   0    0  163  659   36   76    2    6   62    6]\n",
            " [   0    5   66   11  834    7    0   46    1   12]\n",
            " [   1    0  127  161   34  419   39   20   38   53]\n",
            " [  22    3   15    2    6   26  701   34   19  130]\n",
            " [   4   17   13    1  135    1   41  763    3   50]\n",
            " [   9    0   52   83   11   15   20    8  750   26]\n",
            " [   9   10   21    9   23   44  140   56   52  645]]\n"
          ]
        },
        {
          "output_type": "display_data",
          "data": {
            "text/plain": [
              "<Figure size 1440x288 with 10 Axes>"
            ],
            "image/png": "[encoded data removed]"
          },
          "metadata": {
            "needs_background": "light"
          }
        }
      ]
    },
    {
      "cell_type": "code",
      "source": [],
      "metadata": {
        "id": "2YPp_zNe-nXT"
      },
      "execution_count": null,
      "outputs": []
    },
    {
      "cell_type": "code",
      "source": [],
      "metadata": {
        "id": "izC6dxUF08ak"
      },
      "execution_count": null,
      "outputs": []
    },
    {
      "cell_type": "markdown",
      "source": [
        "KNN"
      ],
      "metadata": {
        "id": "pwGR8ivt08-H"
      }
    },
    {
      "cell_type": "code",
      "source": [
        "import numpy as np\n",
        "from sklearn.neighbors import KNeighborsClassifier\n",
        "from sklearn.metrics import accuracy_score\n",
        "from tensorflow.keras.datasets import mnist\n",
        "\n",
        "# Load the MNIST dataset\n",
        "(x_train, y_train), (x_test, y_test) = mnist.load_data()\n",
        "\n",
        "# Flatten the 28x28 images into 784-dimensional vectors\n",
        "x_train = x_train.reshape(len(x_train), -1)\n",
        "x_test = x_test.reshape(len(x_test), -1)\n",
        "\n",
        "# Scale the pixel values to [0, 1]\n",
        "x_train = x_train.astype('float32') / 255\n",
        "x_test = x_test.astype('float32') / 255\n",
        "\n",
        "# Train a KNN classifier\n",
        "knn = KNeighborsClassifier(n_neighbors=5)\n",
        "knn.fit(x_train, y_train)\n",
        "\n",
        "# Make predictions on the test dataset\n",
        "y_pred = knn.predict(x_test)\n",
        "\n",
        "# Calculate the accuracy\n",
        "accuracy = accuracy_score(y_test, y_pred)\n",
        "print(f\"Accuracy: {accuracy * 100:.2f}%\")\n"
      ],
      "metadata": {
        "colab": {
          "base_uri": "https://localhost:8080/"
        },
        "id": "S7MUUYTG09he",
        "outputId": "86db3ac0-5c58-4298-84e4-e95f09e7343b"
      },
      "execution_count": 1,
      "outputs": [
        {
          "output_type": "stream",
          "name": "stdout",
          "text": [
            "Downloading data from https://storage.googleapis.com/tensorflow/tf-keras-datasets/mnist.npz\n",
            "11490434/11490434 [==============================] - 0s 0us/step\n",
            "Accuracy: 96.88%\n"
          ]
        }
      ]
    },
    {
      "cell_type": "code",
      "source": [
        "from sklearn.metrics import accuracy_score, classification_report, confusion_matrix\n",
        "# Generate the classification report\n",
        "report = classification_report(y_test, y_pred)\n",
        "print(\"\\nClassification Report:\")\n",
        "print(report)\n",
        "\n",
        "# Generate the confusion matrix\n",
        "matrix = confusion_matrix(y_test, y_pred)\n",
        "print(\"Confusion Matrix:\")\n",
        "print(matrix)\n",
        "\n"
      ],
      "metadata": {
        "colab": {
          "base_uri": "https://localhost:8080/"
        },
        "id": "NYWM30mT0-EV",
        "outputId": "f7252d04-e3ec-4fc7-b75c-34bbc794d3cf"
      },
      "execution_count": 2,
      "outputs": [
        {
          "output_type": "stream",
          "name": "stdout",
          "text": [
            "\n",
            "Classification Report:\n",
            "              precision    recall  f1-score   support\n",
            "\n",
            "           0       0.96      0.99      0.98       980\n",
            "           1       0.95      1.00      0.98      1135\n",
            "           2       0.98      0.96      0.97      1032\n",
            "           3       0.96      0.97      0.97      1010\n",
            "           4       0.98      0.96      0.97       982\n",
            "           5       0.97      0.97      0.97       892\n",
            "           6       0.98      0.99      0.98       958\n",
            "           7       0.96      0.96      0.96      1028\n",
            "           8       0.99      0.94      0.96       974\n",
            "           9       0.96      0.95      0.95      1009\n",
            "\n",
            "    accuracy                           0.97     10000\n",
            "   macro avg       0.97      0.97      0.97     10000\n",
            "weighted avg       0.97      0.97      0.97     10000\n",
            "\n",
            "Confusion Matrix:\n",
            "[[ 974    1    1    0    0    1    2    1    0    0]\n",
            " [   0 1133    2    0    0    0    0    0    0    0]\n",
            " [  11    8  991    2    1    0    1   15    3    0]\n",
            " [   0    3    3  976    1   13    1    6    3    4]\n",
            " [   3    7    0    0  944    0    4    2    1   21]\n",
            " [   5    0    0   12    2  862    4    1    2    4]\n",
            " [   5    3    0    0    3    2  945    0    0    0]\n",
            " [   0   22    4    0    3    0    0  988    0   11]\n",
            " [   8    3    5   13    6   12    5    5  913    4]\n",
            " [   5    7    3    9    7    3    1   10    2  962]]\n"
          ]
        }
      ]
    },
    {
      "cell_type": "code",
      "source": [
        "import matplotlib.pyplot as plt\n",
        "\n",
        "\n",
        "# Visualize the first 10 images in the test dataset, their true labels, and predicted labels\n",
        "fig, axes = plt.subplots(nrows=2, ncols=5, figsize=(10, 4))\n",
        "for i, ax in enumerate(axes.flat):\n",
        "    ax.imshow(x_test[i].reshape(28, 28), cmap='gray')\n",
        "    ax.set_title(f\"True: {y_test[i]}, Predicted: {y_pred[i]}\")\n",
        "    ax.axis('off')\n",
        "plt.tight_layout()\n",
        "plt.show()\n"
      ],
      "metadata": {
        "colab": {
          "base_uri": "https://localhost:8080/",
          "height": 299
        },
        "id": "ILSHlw1s1san",
        "outputId": "37d90bf3-42fe-4019-95bd-c7a98066688d"
      },
      "execution_count": 6,
      "outputs": [
        {
          "output_type": "display_data",
          "data": {
            "text/plain": [
              "<Figure size 720x288 with 10 Axes>"
            ],
            "image/png": "[encoded data removed]"
          },
          "metadata": {
            "needs_background": "light"
          }
        }
      ]
    },
    {
      "cell_type": "code",
      "source": [
        "import joblib\n",
        "\n",
        "# Save the KNN model\n",
        "joblib.dump(knn, 'knn_model.joblib')\n"
      ],
      "metadata": {
        "colab": {
          "base_uri": "https://localhost:8080/"
        },
        "id": "OMu0mIa22JgG",
        "outputId": "05eb9d58-3ae2-4113-c0db-42da32fed3ee"
      },
      "execution_count": 3,
      "outputs": [
        {
          "output_type": "execute_result",
          "data": {
            "text/plain": [
              "['knn_model.joblib']"
            ]
          },
          "metadata": {},
          "execution_count": 3
        }
      ]
    },
    {
      "cell_type": "code",
      "source": [
        "#TO use any new image for prediction \n",
        "import numpy as np\n",
        "import joblib\n",
        "from PIL import Image\n",
        "\n",
        "# Load the saved KNN model\n",
        "knn = joblib.load('knn_model.joblib')\n",
        "\n",
        "# Load the new image and preprocess it\n",
        "new_image = Image.open('new_image.jpg').convert('L')  # convert to grayscale\n",
        "new_image = new_image.resize((28, 28))  # resize to 28x28\n",
        "new_image = np.array(new_image).reshape(1, -1)  # flatten to a 784-dimensional vector\n",
        "new_image = new_image.astype('float32') / 255  # scale pixel values to [0, 1]\n",
        "\n",
        "# Use the KNN model to make a prediction\n",
        "new_image_pred = knn.predict(new_image)\n",
        "\n",
        "print(f\"Prediction: {new_image_pred}\")"
      ],
      "metadata": {
        "id": "HMrVWNzJMFWn"
      },
      "execution_count": null,
      "outputs": []
    },
    {
      "cell_type": "markdown",
      "source": [],
      "metadata": {
        "id": "X4APPyLQMS1K"
      }
    }
  ],
  "metadata": {
    "accelerator": "GPU",
    "colab": {
      "provenance": [],
      "toc_visible": true
    },
    "gpuClass": "standard",
    "kernelspec": {
      "display_name": "Python 3",
      "name": "python3"
    },
    "language_info": {
      "name": "python"
    }
  },
  "nbformat": 4,
  "nbformat_minor": 0
}